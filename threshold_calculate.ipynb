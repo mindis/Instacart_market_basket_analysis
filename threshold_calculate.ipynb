{
 "cells": [
  {
   "cell_type": "code",
   "execution_count": 1,
   "metadata": {
    "collapsed": true
   },
   "outputs": [],
   "source": [
    "%matplotlib inline\n",
    "import numpy as np\n",
    "import pandas as pd\n",
    "import os\n",
    "import glob\n",
    "import gc\n",
    "import functools\n",
    "from multiprocessing import cpu_count,Pool\n",
    "import lightgbm as lgb\n",
    "import matplotlib.pyplot as plt\n",
    "import seaborn as sns\n",
    "from scipy.stats import spearmanr\n",
    "from sklearn.ensemble import RandomForestRegressor\n",
    "pd.options.display.max_columns=400\n",
    "pd.options.display.max_rows=400\n"
   ]
  },
  {
   "cell_type": "code",
   "execution_count": 2,
   "metadata": {
    "collapsed": true
   },
   "outputs": [],
   "source": [
    "ROOT_DIR = '../data/instacart/files/'\n",
    "out_of_fold = pd.read_csv(ROOT_DIR+'out_of_fold_preds.csv', usecols=['user_id', 'order_id', 'product_id', 'predicted'])\n",
    "test_preds = pd.read_csv(ROOT_DIR+'test_preds.csv')\n",
    "test_preds.rename(columns={'preds':'predicted'}, inplace=True)"
   ]
  },
  {
   "cell_type": "code",
   "execution_count": 3,
   "metadata": {
    "collapsed": true
   },
   "outputs": [],
   "source": [
    "prior = pd.read_csv(ROOT_DIR+'order_products__prior.csv', dtype={\n",
    "    'order_id':np.int32,\n",
    "    'product_id':np.uint16,\n",
    "    'reordered':np.int8\n",
    "}, usecols=['order_id', 'product_id', 'reordered'])\n",
    "\n",
    "train = pd.read_csv(ROOT_DIR+'order_products__train.csv', dtype={\n",
    "    'order_id':np.int32,\n",
    "    'product_id':np.uint16,\n",
    "    'reordered':np.int8\n",
    "}, usecols=['order_id', 'product_id', 'reordered'])\n",
    "orders = pd.read_csv(ROOT_DIR+'orders.csv', dtype={\n",
    "    'order_id':np.int32,\n",
    "    'user_id':np.int32,\n",
    "    'eval_set':'category',\n",
    "    'order_number':np.int16,\n",
    "    'order_dow':np.int8,\n",
    "    'order_hour_of_day':np.int8,\n",
    "    'days_since_prior_order':np.float32\n",
    "})"
   ]
  },
  {
   "cell_type": "code",
   "execution_count": 4,
   "metadata": {
    "collapsed": true
   },
   "outputs": [],
   "source": [
    "train = pd.merge(train, orders, on='order_id', how='left')\n",
    "prior = pd.merge(prior, orders, on='order_id', how='left')"
   ]
  },
  {
   "cell_type": "code",
   "execution_count": 22,
   "metadata": {
    "collapsed": true
   },
   "outputs": [],
   "source": [
    "train['num_reordered'] = train.groupby(['order_id'])['reordered'].transform('sum')\n",
    "prior['num_reordered'] = prior.groupby(['user_id', 'order_id'])['reordered'].transform('sum')"
   ]
  },
  {
   "cell_type": "code",
   "execution_count": 6,
   "metadata": {
    "collapsed": true
   },
   "outputs": [],
   "source": [
    "prior['avg_reorder_size'] = prior.groupby('user_id')['num_reordered'].transform('max').astype(np.int32)"
   ]
  },
  {
   "cell_type": "markdown",
   "metadata": {},
   "source": [
    "None id 49689"
   ]
  },
  {
   "cell_type": "code",
   "execution_count": 7,
   "metadata": {
    "collapsed": true
   },
   "outputs": [],
   "source": [
    "def create_none(df, phase='train'):\n",
    "    grouped_df = df.groupby(['user_id', 'order_id']) \n",
    "    none_prod = pd.DataFrame()\n",
    "    none_prod['predicted'] = grouped_df['predicted'].apply(lambda x: np.prod(1-x))\n",
    "    none_prod['product_id'] = 49689\n",
    "    #if phase=='train':\n",
    "    #    none_prod['reordered'] = grouped_df['reordered'].apply(lambda x: int(np.all(x==0)))\n",
    "    #none_prod = none_prod[none_prod.reordered==1]\n",
    "    none_prod.reset_index(inplace=True)\n",
    "    return none_prod"
   ]
  },
  {
   "cell_type": "code",
   "execution_count": 8,
   "metadata": {
    "collapsed": true
   },
   "outputs": [],
   "source": [
    "none_prod = create_none(out_of_fold)\n",
    "out_of_fold = pd.concat([out_of_fold, none_prod], axis=0)\n",
    "\n",
    "#one_prod = create_none(test_preds, phase='test')\n",
    "#test_preds = pd.concat([test_preds, none_prod], axis=0)\n",
    "del none_prod"
   ]
  },
  {
   "cell_type": "code",
   "execution_count": 9,
   "metadata": {
    "collapsed": true
   },
   "outputs": [],
   "source": [
    "out_of_fold = pd.merge(out_of_fold, prior.drop_duplicates('user_id')[['user_id', 'avg_reorder_size']], how='left', on='user_id')"
   ]
  },
  {
   "cell_type": "code",
   "execution_count": 10,
   "metadata": {
    "collapsed": true
   },
   "outputs": [],
   "source": [
    "out_of_fold.sort_values(['order_id', 'predicted'],ascending=[True,False], inplace=True)"
   ]
  },
  {
   "cell_type": "code",
   "execution_count": 14,
   "metadata": {
    "collapsed": true
   },
   "outputs": [],
   "source": [
    "##### variable basket size implementation\n",
    "def get_f1score(x, basket=20):\n",
    "    user = x.user_id.unique()[0]\n",
    "    #y_true = np.concatenate([x.loc[x.reordered==1, 'product_id']])\n",
    "    y_true = train.loc[(train.user_id==user)&(train.reordered==1), 'product_id'].values\n",
    "    if len(y_true) == 0:\n",
    "        y_true = [49689]\n",
    "    \n",
    "    y_pred = x['product_id'].values[:x.avg_reorder_size.unique()[0]]\n",
    "    # aggressive None handling\n",
    "    #if np.sum(y_pred==49689)>0:\n",
    "    #    y_pred = [49689]\n",
    "    \n",
    "    # moderate None handling - If None in top-5 \n",
    "    #if np.sum(y_pred[:5]==49689)>0:\n",
    "    #    y_pred = [49689]\n",
    "    \n",
    "    if len(y_pred) == 0:\n",
    "        y_pred = [49689]\n",
    "    \n",
    "    precision = sum([1 for i in y_pred if i in y_true]) / float(len(y_pred))\n",
    "    recall = sum([1 for i in y_true if i in y_pred]) / float(len(y_true))\n",
    "    if precision + recall == 0:\n",
    "        return 0\n",
    "    return (2 * precision * recall) / float((precision + recall))"
   ]
  },
  {
   "cell_type": "code",
   "execution_count": 15,
   "metadata": {
    "collapsed": true
   },
   "outputs": [],
   "source": [
    "t = out_of_fold.groupby('order_id').apply(get_f1score)"
   ]
  },
  {
   "cell_type": "code",
   "execution_count": 16,
   "metadata": {
    "collapsed": false
   },
   "outputs": [
    {
     "data": {
      "text/plain": [
       "0.3800876363982222"
      ]
     },
     "execution_count": 16,
     "metadata": {},
     "output_type": "execute_result"
    }
   ],
   "source": [
    "t.mean()"
   ]
  },
  {
   "cell_type": "code",
   "execution_count": 9,
   "metadata": {
    "collapsed": true
   },
   "outputs": [],
   "source": [
    "##### variable basket size implementation\n",
    "def get_f1score(x, basket=20):\n",
    "    user = x.user_id.unique()[0]\n",
    "    #y_true = np.concatenate([x.loc[x.reordered==1, 'product_id']])\n",
    "    y_true = train.loc[(train.user_id==user)&(train.reordered==1), 'product_id'].values\n",
    "    if len(y_true) == 0:\n",
    "        y_true = [49689]\n",
    "    \n",
    "    y_pred = x['product_id'].values[:basket]\n",
    "    # aggressive None handling\n",
    "    #if np.sum(y_pred==49689)>0:\n",
    "    #    y_pred = [49689]\n",
    "    \n",
    "    # moderate None handling - If None in top-5 \n",
    "    #if np.sum(y_pred[:5]==49689)>0:\n",
    "    #    y_pred = [49689]\n",
    "    \n",
    "    if len(y_pred) == 0:\n",
    "        y_pred = [49689]\n",
    "    \n",
    "    precision = sum([1 for i in y_pred if i in y_true]) / float(len(y_pred))\n",
    "    recall = sum([1 for i in y_true if i in y_pred]) / float(len(y_true))\n",
    "    if precision + recall == 0:\n",
    "        return 0,0,0\n",
    "    return precision, recall, (2 * precision * recall) / float((precision + recall))"
   ]
  },
  {
   "cell_type": "code",
   "execution_count": 11,
   "metadata": {
    "collapsed": true
   },
   "outputs": [],
   "source": [
    "##### variable threshold implementation\n",
    "\n",
    "def get_f1score(x, threshold=0.15):\n",
    "\n",
    "    user = x.user_id.unique()[0]\n",
    "    #y_true = np.concatenate([x.loc[x.reordered==1, 'product_id']])\n",
    "    y_true = train.loc[(train.user_id==user)&(train.reordered==1), 'product_id'].values\n",
    "    if len(y_true) == 0:\n",
    "        y_true = [49689]\n",
    "    \n",
    "    \n",
    "    y_pred = np.concatenate([x.loc[x.predicted>=threshold, 'product_id']])\n",
    "    #capping y_pred at 40 \n",
    "    #precision is the only thing that can be controlled\n",
    "    if len(y_pred) > 40:\n",
    "        y_pred = np.concatenate([x.loc[x.predicted>=threshold, 'product_id']])[:40]\n",
    "    #aggressive none handling\n",
    "    if np.sum(y_pred==49689)>0:\n",
    "        y_pred = [49689]\n",
    "    if len(y_pred) == 0:\n",
    "        y_pred = [49689]\n",
    "    \n",
    "    precision = sum([1 for i in y_pred if i in y_true]) / float(len(y_pred))\n",
    "    recall = sum([1 for i in y_true if i in y_pred]) / float(len(y_true))\n",
    "    if precision + recall == 0:\n",
    "        return 0,0,0\n",
    "    return precision, recall, (2 * precision * recall) / float((precision + recall))"
   ]
  },
  {
   "cell_type": "code",
   "execution_count": 12,
   "metadata": {
    "collapsed": true
   },
   "outputs": [],
   "source": [
    "# cutoff_1 = np.arange(0, 15, 2)\n",
    "# cutoff_2 = np.arange(16, 32, 2)\n",
    "cutoff_1 = np.arange(0, 0.01, 0.001)\n",
    "cutoff_2 = np.arange(0.01, 0.34, 0.005)\n",
    "cutoffs = np.concatenate([cutoff_1, cutoff_2])\n",
    "\n",
    "f1_table = pd.DataFrame()\n",
    "f1_table['user_id'] = np.sort(out_of_fold.user_id.unique())\n",
    "def grid_f1(threshold):\n",
    "    new_f1 = functools.partial(get_f1score, threshold=threshold)\n",
    "    t = out_of_fold.groupby('user_id').apply(new_f1)\n",
    "    #return np.expand_dims(t.values, axis=-1)\n",
    "    return t.values"
   ]
  },
  {
   "cell_type": "code",
   "execution_count": 13,
   "metadata": {
    "collapsed": true
   },
   "outputs": [],
   "source": [
    "p = Pool(cpu_count())\n",
    "f1_list = p.map(grid_f1, cutoffs)"
   ]
  },
  {
   "cell_type": "code",
   "execution_count": 14,
   "metadata": {
    "collapsed": true
   },
   "outputs": [],
   "source": [
    "precision=[]\n",
    "recall=[]\n",
    "f1=[]\n",
    "for tup in f1_list:\n",
    "    pr,re,f = zip(*tup)\n",
    "    precision.append(list(pr))\n",
    "    recall.append(list(re))\n",
    "    f1.append(list(f))"
   ]
  },
  {
   "cell_type": "code",
   "execution_count": 15,
   "metadata": {
    "collapsed": true
   },
   "outputs": [],
   "source": [
    "precision = np.array(precision).T\n",
    "recall = np.array(recall).T\n",
    "f1= np.array(f1).T"
   ]
  },
  {
   "cell_type": "code",
   "execution_count": 16,
   "metadata": {
    "collapsed": true
   },
   "outputs": [],
   "source": [
    "f1_table['y_thr'] = cutoffs[np.argmax(f1, axis=1)]\n",
    "f1_table['max_f1'] = np.max(f1, axis=1)\n",
    "f1_table['precision_at_maxf1'] = precision[np.arange(131209), np.argmax(f1, axis=1)]\n",
    "f1_table['recall_at_maxf1'] = recall[np.arange(131209), np.argmax(f1, axis=1)]"
   ]
  },
  {
   "cell_type": "code",
   "execution_count": 24,
   "metadata": {
    "collapsed": true
   },
   "outputs": [],
   "source": [
    "f1_table = pd.merge(f1_table, train.drop_duplicates('user_id')[['user_id', 'num_reordered']], on='user_id', how='left')"
   ]
  },
  {
   "cell_type": "code",
   "execution_count": 28,
   "metadata": {
    "collapsed": false
   },
   "outputs": [
    {
     "data": {
      "image/png": "[encoded data removed]",
      "text/plain": [
       "<matplotlib.figure.Figure at 0x7fe9444b06d0>"
      ]
     },
     "metadata": {},
     "output_type": "display_data"
    }
   ],
   "source": [
    "plt.figure()\n",
    "plt.scatter(f1_table.y_thr,f1_table.num_reordered)\n",
    "plt.show()"
   ]
  },
  {
   "cell_type": "code",
   "execution_count": 14,
   "metadata": {
    "collapsed": true
   },
   "outputs": [],
   "source": [
    "grouped_df = out_of_fold.groupby('user_id').size().reset_index()\n",
    "f1_table = pd.merge(f1_table, grouped_df, on='user_id')"
   ]
  },
  {
   "cell_type": "code",
   "execution_count": 15,
   "metadata": {
    "collapsed": true
   },
   "outputs": [],
   "source": [
    "f1_table.rename(columns={0:'candidate_size'}, inplace=True)"
   ]
  },
  {
   "cell_type": "code",
   "execution_count": 16,
   "metadata": {
    "collapsed": true
   },
   "outputs": [],
   "source": [
    "out_of_fold = pd.merge(out_of_fold, f1_table, on='user_id', how='left')"
   ]
  },
  {
   "cell_type": "code",
   "execution_count": 17,
   "metadata": {
    "collapsed": true
   },
   "outputs": [],
   "source": [
    "#out_of_fold.tail(100)"
   ]
  },
  {
   "cell_type": "code",
   "execution_count": 18,
   "metadata": {
    "collapsed": false
   },
   "outputs": [
    {
     "data": {
      "image/png": "[encoded data removed]",
      "text/plain": [
       "<matplotlib.figure.Figure at 0x7f1c078844d0>"
      ]
     },
     "metadata": {},
     "output_type": "display_data"
    }
   ],
   "source": [
    "plt.figure(figsize=(12,8))\n",
    "#fig,ax = plt.subplots(2, 1, figsize=(12,8))\n",
    "sns.distplot(f1_table.y_thr,bins=60, color='blue')\n",
    "sns.distplot(f1_table.candidate_size,bins=80, color='red')\n",
    "plt.show()"
   ]
  },
  {
   "cell_type": "code",
   "execution_count": 19,
   "metadata": {
    "collapsed": false
   },
   "outputs": [
    {
     "data": {
      "image/png": "[encoded data removed]",
      "text/plain": [
       "<matplotlib.figure.Figure at 0x7f1c07884510>"
      ]
     },
     "metadata": {},
     "output_type": "display_data"
    }
   ],
   "source": [
    "#plt.figure(figsize=(12,8))\n",
    "fig,ax = plt.subplots(3, 1, figsize=(12,8))\n",
    "sns.distplot(f1_table.max_f1,bins=80, color='black', ax=ax[0])\n",
    "sns.distplot(f1_table.precision_at_maxf1, bins=80, color='red', ax=ax[1])\n",
    "sns.distplot(f1_table.recall_at_maxf1, bins=80, color='green', ax=ax[2])\n",
    "plt.show()"
   ]
  },
  {
   "cell_type": "code",
   "execution_count": 20,
   "metadata": {
    "collapsed": false
   },
   "outputs": [
    {
     "data": {
      "text/html": [
       "<div>\n",
       "<style>\n",
       "    .dataframe thead tr:only-child th {\n",
       "        text-align: right;\n",
       "    }\n",
       "\n",
       "    .dataframe thead th {\n",
       "        text-align: left;\n",
       "    }\n",
       "\n",
       "    .dataframe tbody tr th {\n",
       "        vertical-align: top;\n",
       "    }\n",
       "</style>\n",
       "<table border=\"1\" class=\"dataframe\">\n",
       "  <thead>\n",
       "    <tr style=\"text-align: right;\">\n",
       "      <th></th>\n",
       "      <th>user_id</th>\n",
       "      <th>y_thr</th>\n",
       "      <th>max_f1</th>\n",
       "      <th>precision_at_maxf1</th>\n",
       "      <th>recall_at_maxf1</th>\n",
       "      <th>candidate_size</th>\n",
       "    </tr>\n",
       "  </thead>\n",
       "  <tbody>\n",
       "    <tr>\n",
       "      <th>3</th>\n",
       "      <td>7</td>\n",
       "      <td>0.27</td>\n",
       "      <td>0.5</td>\n",
       "      <td>0.500000</td>\n",
       "      <td>0.500000</td>\n",
       "      <td>69</td>\n",
       "    </tr>\n",
       "    <tr>\n",
       "      <th>8</th>\n",
       "      <td>14</td>\n",
       "      <td>0.13</td>\n",
       "      <td>0.5</td>\n",
       "      <td>0.500000</td>\n",
       "      <td>0.500000</td>\n",
       "      <td>143</td>\n",
       "    </tr>\n",
       "    <tr>\n",
       "      <th>9</th>\n",
       "      <td>17</td>\n",
       "      <td>0.25</td>\n",
       "      <td>0.5</td>\n",
       "      <td>0.400000</td>\n",
       "      <td>0.666667</td>\n",
       "      <td>84</td>\n",
       "    </tr>\n",
       "    <tr>\n",
       "      <th>18</th>\n",
       "      <td>37</td>\n",
       "      <td>0.17</td>\n",
       "      <td>0.5</td>\n",
       "      <td>0.666667</td>\n",
       "      <td>0.400000</td>\n",
       "      <td>105</td>\n",
       "    </tr>\n",
       "    <tr>\n",
       "      <th>24</th>\n",
       "      <td>46</td>\n",
       "      <td>0.13</td>\n",
       "      <td>0.5</td>\n",
       "      <td>0.357143</td>\n",
       "      <td>0.833333</td>\n",
       "      <td>63</td>\n",
       "    </tr>\n",
       "  </tbody>\n",
       "</table>\n",
       "</div>"
      ],
      "text/plain": [
       "    user_id  y_thr  max_f1  precision_at_maxf1  recall_at_maxf1  \\\n",
       "3         7   0.27     0.5            0.500000         0.500000   \n",
       "8        14   0.13     0.5            0.500000         0.500000   \n",
       "9        17   0.25     0.5            0.400000         0.666667   \n",
       "18       37   0.17     0.5            0.666667         0.400000   \n",
       "24       46   0.13     0.5            0.357143         0.833333   \n",
       "\n",
       "    candidate_size  \n",
       "3               69  \n",
       "8              143  \n",
       "9               84  \n",
       "18             105  \n",
       "24              63  "
      ]
     },
     "execution_count": 20,
     "metadata": {},
     "output_type": "execute_result"
    }
   ],
   "source": [
    "f1_table[f1_table.max_f1==0.5].head()"
   ]
  },
  {
   "cell_type": "code",
   "execution_count": 21,
   "metadata": {
    "collapsed": false
   },
   "outputs": [
    {
     "data": {
      "image/png": "[encoded data removed]",
      "text/plain": [
       "<matplotlib.figure.Figure at 0x7f1be8731f90>"
      ]
     },
     "metadata": {},
     "output_type": "display_data"
    }
   ],
   "source": [
    "plt.figure(figsize=(12,8))\n",
    "sns.distplot(f1_table.y_thr,bins=80, color='black')\n",
    "plt.show()"
   ]
  },
  {
   "cell_type": "code",
   "execution_count": 22,
   "metadata": {
    "collapsed": false
   },
   "outputs": [
    {
     "data": {
      "text/plain": [
       "0.5249099933828038"
      ]
     },
     "execution_count": 22,
     "metadata": {},
     "output_type": "execute_result"
    }
   ],
   "source": [
    "f1_table.max_f1.mean()"
   ]
  },
  {
   "cell_type": "code",
   "execution_count": null,
   "metadata": {
    "collapsed": true
   },
   "outputs": [],
   "source": []
  },
  {
   "cell_type": "code",
   "execution_count": 24,
   "metadata": {
    "collapsed": false
   },
   "outputs": [
    {
     "data": {
      "image/png": "[encoded data removed]",
      "text/plain": [
       "<matplotlib.figure.Figure at 0x7f5847deedd0>"
      ]
     },
     "metadata": {},
     "output_type": "display_data"
    }
   ],
   "source": [
    "plt.figure()\n",
    "plt.scatter(f1_table.max_f1,f1_table.candidate_size)\n",
    "plt.show()"
   ]
  },
  {
   "cell_type": "code",
   "execution_count": 23,
   "metadata": {
    "collapsed": false
   },
   "outputs": [
    {
     "data": {
      "text/html": [
       "<div>\n",
       "<style>\n",
       "    .dataframe thead tr:only-child th {\n",
       "        text-align: right;\n",
       "    }\n",
       "\n",
       "    .dataframe thead th {\n",
       "        text-align: left;\n",
       "    }\n",
       "\n",
       "    .dataframe tbody tr th {\n",
       "        vertical-align: top;\n",
       "    }\n",
       "</style>\n",
       "<table border=\"1\" class=\"dataframe\">\n",
       "  <thead>\n",
       "    <tr style=\"text-align: right;\">\n",
       "      <th></th>\n",
       "      <th>user_id</th>\n",
       "      <th>y_thr</th>\n",
       "      <th>max_f1</th>\n",
       "      <th>precision_at_maxf1</th>\n",
       "      <th>recall_at_maxf1</th>\n",
       "      <th>candidate_size</th>\n",
       "    </tr>\n",
       "  </thead>\n",
       "  <tbody>\n",
       "    <tr>\n",
       "      <th>6</th>\n",
       "      <td>10</td>\n",
       "      <td>0.0</td>\n",
       "      <td>0.0</td>\n",
       "      <td>0.0</td>\n",
       "      <td>0.0</td>\n",
       "      <td>95</td>\n",
       "    </tr>\n",
       "    <tr>\n",
       "      <th>27</th>\n",
       "      <td>49</td>\n",
       "      <td>0.0</td>\n",
       "      <td>0.0</td>\n",
       "      <td>0.0</td>\n",
       "      <td>0.0</td>\n",
       "      <td>46</td>\n",
       "    </tr>\n",
       "    <tr>\n",
       "      <th>38</th>\n",
       "      <td>66</td>\n",
       "      <td>0.0</td>\n",
       "      <td>0.0</td>\n",
       "      <td>0.0</td>\n",
       "      <td>0.0</td>\n",
       "      <td>19</td>\n",
       "    </tr>\n",
       "    <tr>\n",
       "      <th>76</th>\n",
       "      <td>116</td>\n",
       "      <td>0.0</td>\n",
       "      <td>0.0</td>\n",
       "      <td>0.0</td>\n",
       "      <td>0.0</td>\n",
       "      <td>22</td>\n",
       "    </tr>\n",
       "    <tr>\n",
       "      <th>90</th>\n",
       "      <td>138</td>\n",
       "      <td>0.0</td>\n",
       "      <td>0.0</td>\n",
       "      <td>0.0</td>\n",
       "      <td>0.0</td>\n",
       "      <td>56</td>\n",
       "    </tr>\n",
       "  </tbody>\n",
       "</table>\n",
       "</div>"
      ],
      "text/plain": [
       "    user_id  y_thr  max_f1  precision_at_maxf1  recall_at_maxf1  \\\n",
       "6        10    0.0     0.0                 0.0              0.0   \n",
       "27       49    0.0     0.0                 0.0              0.0   \n",
       "38       66    0.0     0.0                 0.0              0.0   \n",
       "76      116    0.0     0.0                 0.0              0.0   \n",
       "90      138    0.0     0.0                 0.0              0.0   \n",
       "\n",
       "    candidate_size  \n",
       "6               95  \n",
       "27              46  \n",
       "38              19  \n",
       "76              22  \n",
       "90              56  "
      ]
     },
     "execution_count": 23,
     "metadata": {},
     "output_type": "execute_result"
    }
   ],
   "source": [
    "f1_table[f1_table.max_f1==0].head()"
   ]
  },
  {
   "cell_type": "code",
   "execution_count": 15,
   "metadata": {
    "collapsed": false
   },
   "outputs": [
    {
     "data": {
      "text/html": [
       "<div>\n",
       "<style>\n",
       "    .dataframe thead tr:only-child th {\n",
       "        text-align: right;\n",
       "    }\n",
       "\n",
       "    .dataframe thead th {\n",
       "        text-align: left;\n",
       "    }\n",
       "\n",
       "    .dataframe tbody tr th {\n",
       "        vertical-align: top;\n",
       "    }\n",
       "</style>\n",
       "<table border=\"1\" class=\"dataframe\">\n",
       "  <thead>\n",
       "    <tr style=\"text-align: right;\">\n",
       "      <th></th>\n",
       "      <th>order_id</th>\n",
       "      <th>predicted</th>\n",
       "      <th>product_id</th>\n",
       "      <th>reordered</th>\n",
       "      <th>user_id</th>\n",
       "      <th>y_thr</th>\n",
       "    </tr>\n",
       "  </thead>\n",
       "  <tbody>\n",
       "    <tr>\n",
       "      <th>1771711</th>\n",
       "      <td>1035125</td>\n",
       "      <td>0.007102</td>\n",
       "      <td>44815</td>\n",
       "      <td>1</td>\n",
       "      <td>182224</td>\n",
       "      <td>160</td>\n",
       "    </tr>\n",
       "  </tbody>\n",
       "</table>\n",
       "</div>"
      ],
      "text/plain": [
       "         order_id  predicted  product_id  reordered  user_id  y_thr\n",
       "1771711   1035125   0.007102       44815          1   182224    160"
      ]
     },
     "execution_count": 15,
     "metadata": {},
     "output_type": "execute_result"
    }
   ],
   "source": [
    "#&(out_of_fold.reordered==1)\n",
    "#&(out_of_fold.predicted>=out_of_fold.y_thr)\n",
    "out_of_fold[(out_of_fold.user_id==182224)&(out_of_fold.reordered==1)]"
   ]
  },
  {
   "cell_type": "code",
   "execution_count": 11,
   "metadata": {
    "collapsed": true
   },
   "outputs": [],
   "source": [
    "var = ['user_id', 'user_basket_size_in_last0_order','user_basket_size_in_last1_order','user_average_basket_size', \n",
    "       'user_reorder_rate', 'user_reorders', 'user_nb_orders','user_total_items', 'user_total_distinct_items', \n",
    "       'days_since_ratio', 'days_since_prior_order', 'user_average_days_between_orders','unique_aisles', 'unique_departments',\n",
    "       'user_total_items_recent', 'user_total_distinct_items_recent','user_reorder_rate_recent', 'user_reorders_recent', \n",
    "       'user_average_days_between_orders_recent', 'user_average_basket_size_recent', 'order_hour_of_day', 'cumulative_time','days_since_cumulative_ratio'\n",
    "       ,'user_order_velocity', 'user_days_since_prior_order_lag0', 'user_days_since_prior_order_lag1', 'days_since_prior_lag0_ratio', 'days_since_prior_lag1_ratio'\n",
    "      ]\n",
    "user_feat = pd.read_csv(ROOT_DIR+'cleaned_train/valid_onr_0.csv', usecols=var).drop_duplicates('user_id')"
   ]
  },
  {
   "cell_type": "code",
   "execution_count": 14,
   "metadata": {
    "collapsed": true
   },
   "outputs": [],
   "source": [
    "grouped_df = out_of_fold.groupby('user_id')\n",
    "prob_feat = pd.DataFrame()\n",
    "prob_feat['mean_prob'] = grouped_df['predicted'].mean()\n",
    "prob_feat['sum_prob'] = grouped_df['predicted'].sum()\n",
    "prob_feat.reset_index(inplace=True)"
   ]
  },
  {
   "cell_type": "code",
   "execution_count": 31,
   "metadata": {
    "collapsed": false
   },
   "outputs": [
    {
     "name": "stderr",
     "output_type": "stream",
     "text": [
      "Process PoolWorker-28:\n",
      "Traceback (most recent call last):\n",
      "Process PoolWorker-25:\n",
      "Traceback (most recent call last):\n",
      "Process PoolWorker-22:\n",
      "Process PoolWorker-21:\n",
      "Process PoolWorker-26:\n",
      "Process PoolWorker-23:\n",
      "Traceback (most recent call last):\n",
      "Process PoolWorker-24:\n",
      "Process PoolWorker-27:\n",
      "Traceback (most recent call last):\n",
      "  File \"/home/cvpr/anaconda2/lib/python2.7/multiprocessing/process.py\", line 258, in _bootstrap\n",
      "  File \"/home/cvpr/anaconda2/lib/python2.7/multiprocessing/process.py\", line 258, in _bootstrap\n",
      "Traceback (most recent call last):\n",
      "Traceback (most recent call last):\n",
      "  File \"/home/cvpr/anaconda2/lib/python2.7/multiprocessing/process.py\", line 258, in _bootstrap\n",
      "Traceback (most recent call last):\n",
      "  File \"/home/cvpr/anaconda2/lib/python2.7/multiprocessing/process.py\", line 258, in _bootstrap\n",
      "    self.run()\n",
      "  File \"/home/cvpr/anaconda2/lib/python2.7/multiprocessing/process.py\", line 258, in _bootstrap\n",
      "  File \"/home/cvpr/anaconda2/lib/python2.7/multiprocessing/process.py\", line 258, in _bootstrap\n",
      "Traceback (most recent call last):\n",
      "  File \"/home/cvpr/anaconda2/lib/python2.7/multiprocessing/process.py\", line 258, in _bootstrap\n",
      "Process PoolWorker-29:\n",
      "    self.run()\n",
      "Process PoolWorker-30:\n",
      "    self.run()\n",
      "Process PoolWorker-31:\n",
      "Exception in thread Thread-4:\n",
      "Traceback (most recent call last):\n",
      "  File \"/home/cvpr/anaconda2/lib/python2.7/threading.py\", line 801, in __bootstrap_inner\n",
      "    self.run()\n",
      "  File \"/home/cvpr/anaconda2/lib/python2.7/threading.py\", line 754, in run\n",
      "    self.__target(*self.__args, **self.__kwargs)\n",
      "  File \"/home/cvpr/anaconda2/lib/python2.7/multiprocessing/pool.py\", line 326, in _handle_workers\n",
      "    pool._maintain_pool()\n",
      "  File \"/home/cvpr/anaconda2/lib/python2.7/multiprocessing/pool.py\", line 230, in _maintain_pool\n",
      "    self._repopulate_pool()\n",
      "  File \"/home/cvpr/anaconda2/lib/python2.7/multiprocessing/pool.py\", line 223, in _repopulate_pool\n",
      "    w.start()\n",
      "  File \"/home/cvpr/anaconda2/lib/python2.7/multiprocessing/process.py\", line 130, in start\n",
      "    self._popen = Popen(self)\n",
      "  File \"/home/cvpr/anaconda2/lib/python2.7/multiprocessing/forking.py\", line 126, in __init__\n",
      "    code = process_obj._bootstrap()\n",
      "  File \"/home/cvpr/anaconda2/lib/python2.7/multiprocessing/process.py\", line 276, in _bootstrap\n",
      "    traceback.print_exc()\n",
      "  File \"/home/cvpr/anaconda2/lib/python2.7/traceback.py\", line 233, in print_exc\n",
      "    print_exception(etype, value, tb, limit, file)\n",
      "  File \"/home/cvpr/anaconda2/lib/python2.7/traceback.py\", line 125, in print_exception\n",
      "    print_tb(tb, limit, file)\n",
      "  File \"/home/cvpr/anaconda2/lib/python2.7/traceback.py\", line 70, in print_tb\n",
      "    if line: _print(file, '    ' + line.strip())\n",
      "  File \"/home/cvpr/anaconda2/lib/python2.7/traceback.py\", line 13, in _print\n",
      "    file.write(str+terminator)\n",
      "  File \"/home/cvpr/anaconda2/lib/python2.7/site-packages/ipykernel/iostream.py\", line 377, in write\n",
      "    self.flush()\n",
      "  File \"/home/cvpr/anaconda2/lib/python2.7/site-packages/ipykernel/iostream.py\", line 324, in flush\n",
      "    self._flush()\n",
      "  File \"/home/cvpr/anaconda2/lib/python2.7/site-packages/ipykernel/iostream.py\", line 341, in _flush\n",
      "    parent=self.parent_header, ident=self.topic)\n",
      "  File \"/home/cvpr/anaconda2/lib/python2.7/site-packages/jupyter_client/session.py\", line 684, in send\n",
      "    stream.send_multipart(to_send, copy=copy)\n",
      "  File \"/home/cvpr/anaconda2/lib/python2.7/site-packages/ipykernel/iostream.py\", line 199, in send_multipart\n",
      "    self.schedule(lambda : self._really_send(*args, **kwargs))\n",
      "  File \"/home/cvpr/anaconda2/lib/python2.7/site-packages/ipykernel/iostream.py\", line 192, in schedule\n",
      "    f()\n",
      "  File \"/home/cvpr/anaconda2/lib/python2.7/site-packages/ipykernel/iostream.py\", line 199, in <lambda>\n",
      "    self.schedule(lambda : self._really_send(*args, **kwargs))\n",
      "  File \"/home/cvpr/anaconda2/lib/python2.7/site-packages/ipykernel/iostream.py\", line 215, in _really_send\n",
      "    ctx.term()\n",
      "  File \"zmq/backend/cython/context.pyx\", line 136, in zmq.backend.cython.context.Context.term (zmq/backend/cython/context.c:2339)\n",
      "  File \"zmq/backend/cython/checkrc.pxd\", line 12, in zmq.backend.cython.checkrc._check_rc (zmq/backend/cython/context.c:3207)\n",
      "    PyErr_CheckSignals()\n",
      "KeyboardInterrupt\n",
      "Exception in thread Thread-4:\n",
      "Traceback (most recent call last):\n",
      "  File \"/home/cvpr/anaconda2/lib/python2.7/threading.py\", line 801, in __bootstrap_inner\n",
      "    self.run()\n",
      "  File \"/home/cvpr/anaconda2/lib/python2.7/threading.py\", line 754, in run\n",
      "    self.__target(*self.__args, **self.__kwargs)\n",
      "  File \"/home/cvpr/anaconda2/lib/python2.7/multiprocessing/pool.py\", line 326, in _handle_workers\n",
      "    pool._maintain_pool()\n",
      "  File \"/home/cvpr/anaconda2/lib/python2.7/multiprocessing/pool.py\", line 230, in _maintain_pool\n",
      "    self._repopulate_pool()\n",
      "  File \"/home/cvpr/anaconda2/lib/python2.7/multiprocessing/pool.py\", line 223, in _repopulate_pool\n",
      "    w.start()\n",
      "  File \"/home/cvpr/anaconda2/lib/python2.7/multiprocessing/process.py\", line 130, in start\n",
      "    self._popen = Popen(self)\n",
      "  File \"/home/cvpr/anaconda2/lib/python2.7/multiprocessing/forking.py\", line 126, in __init__\n",
      "    code = process_obj._bootstrap()\n",
      "  File \"/home/cvpr/anaconda2/lib/python2.7/multiprocessing/process.py\", line 276, in _bootstrap\n",
      "    traceback.print_exc()\n",
      "  File \"/home/cvpr/anaconda2/lib/python2.7/traceback.py\", line 233, in print_exc\n",
      "    print_exception(etype, value, tb, limit, file)\n",
      "  File \"/home/cvpr/anaconda2/lib/python2.7/traceback.py\", line 125, in print_exception\n",
      "    print_tb(tb, limit, file)\n",
      "  File \"/home/cvpr/anaconda2/lib/python2.7/traceback.py\", line 67, in print_tb\n",
      "    '  File \"%s\", line %d, in %s' % (filename, lineno, name))\n",
      "  File \"/home/cvpr/anaconda2/lib/python2.7/traceback.py\", line 13, in _print\n",
      "    file.write(str+terminator)\n",
      "  File \"/home/cvpr/anaconda2/lib/python2.7/site-packages/ipykernel/iostream.py\", line 377, in write\n",
      "    self.flush()\n",
      "  File \"/home/cvpr/anaconda2/lib/python2.7/site-packages/ipykernel/iostream.py\", line 324, in flush\n",
      "    self._flush()\n",
      "  File \"/home/cvpr/anaconda2/lib/python2.7/site-packages/ipykernel/iostream.py\", line 341, in _flush\n",
      "    parent=self.parent_header, ident=self.topic)\n",
      "  File \"/home/cvpr/anaconda2/lib/python2.7/site-packages/jupyter_client/session.py\", line 684, in send\n",
      "    stream.send_multipart(to_send, copy=copy)\n",
      "  File \"/home/cvpr/anaconda2/lib/python2.7/site-packages/ipykernel/iostream.py\", line 199, in send_multipart\n",
      "    self.schedule(lambda : self._really_send(*args, **kwargs))\n",
      "  File \"/home/cvpr/anaconda2/lib/python2.7/site-packages/ipykernel/iostream.py\", line 192, in schedule\n",
      "    f()\n",
      "  File \"/home/cvpr/anaconda2/lib/python2.7/site-packages/ipykernel/iostream.py\", line 199, in <lambda>\n",
      "    self.schedule(lambda : self._really_send(*args, **kwargs))\n",
      "  File \"/home/cvpr/anaconda2/lib/python2.7/site-packages/ipykernel/iostream.py\", line 215, in _really_send\n",
      "    ctx.term()\n",
      "  File \"zmq/backend/cython/context.pyx\", line 136, in zmq.backend.cython.context.Context.term (zmq/backend/cython/context.c:2339)\n",
      "  File \"zmq/backend/cython/checkrc.pxd\", line 12, in zmq.backend.cython.checkrc._check_rc (zmq/backend/cython/context.c:3207)\n",
      "    PyErr_CheckSignals()\n",
      "KeyboardInterrupt\n",
      "Exception in thread Thread-4:\n",
      "Traceback (most recent call last):\n",
      "  File \"/home/cvpr/anaconda2/lib/python2.7/threading.py\", line 801, in __bootstrap_inner\n",
      "    self.run()\n",
      "  File \"/home/cvpr/anaconda2/lib/python2.7/threading.py\", line 754, in run\n",
      "    self.__target(*self.__args, **self.__kwargs)\n",
      "  File \"/home/cvpr/anaconda2/lib/python2.7/multiprocessing/pool.py\", line 326, in _handle_workers\n",
      "    pool._maintain_pool()\n",
      "  File \"/home/cvpr/anaconda2/lib/python2.7/multiprocessing/pool.py\", line 230, in _maintain_pool\n",
      "    self._repopulate_pool()\n",
      "  File \"/home/cvpr/anaconda2/lib/python2.7/multiprocessing/pool.py\", line 223, in _repopulate_pool\n",
      "    w.start()\n",
      "  File \"/home/cvpr/anaconda2/lib/python2.7/multiprocessing/process.py\", line 130, in start\n",
      "    self._popen = Popen(self)\n",
      "  File \"/home/cvpr/anaconda2/lib/python2.7/multiprocessing/forking.py\", line 126, in __init__\n",
      "    code = process_obj._bootstrap()\n",
      "  File \"/home/cvpr/anaconda2/lib/python2.7/multiprocessing/process.py\", line 276, in _bootstrap\n",
      "    traceback.print_exc()\n",
      "  File \"/home/cvpr/anaconda2/lib/python2.7/traceback.py\", line 233, in print_exc\n",
      "    print_exception(etype, value, tb, limit, file)\n",
      "  File \"/home/cvpr/anaconda2/lib/python2.7/traceback.py\", line 125, in print_exception\n",
      "    print_tb(tb, limit, file)\n",
      "  File \"/home/cvpr/anaconda2/lib/python2.7/traceback.py\", line 70, in print_tb\n",
      "    if line: _print(file, '    ' + line.strip())\n",
      "  File \"/home/cvpr/anaconda2/lib/python2.7/traceback.py\", line 13, in _print\n",
      "    file.write(str+terminator)\n",
      "  File \"/home/cvpr/anaconda2/lib/python2.7/site-packages/ipykernel/iostream.py\", line 377, in write\n",
      "    self.flush()\n",
      "  File \"/home/cvpr/anaconda2/lib/python2.7/site-packages/ipykernel/iostream.py\", line 324, in flush\n",
      "    self._flush()\n",
      "  File \"/home/cvpr/anaconda2/lib/python2.7/site-packages/ipykernel/iostream.py\", line 341, in _flush\n",
      "    parent=self.parent_header, ident=self.topic)\n",
      "  File \"/home/cvpr/anaconda2/lib/python2.7/site-packages/jupyter_client/session.py\", line 684, in send\n",
      "    stream.send_multipart(to_send, copy=copy)\n",
      "  File \"/home/cvpr/anaconda2/lib/python2.7/site-packages/ipykernel/iostream.py\", line 199, in send_multipart\n",
      "    self.schedule(lambda : self._really_send(*args, **kwargs))\n",
      "  File \"/home/cvpr/anaconda2/lib/python2.7/site-packages/ipykernel/iostream.py\", line 192, in schedule\n",
      "    f()\n",
      "  File \"/home/cvpr/anaconda2/lib/python2.7/site-packages/ipykernel/iostream.py\", line 199, in <lambda>\n",
      "    self.schedule(lambda : self._really_send(*args, **kwargs))\n",
      "  File \"/home/cvpr/anaconda2/lib/python2.7/site-packages/ipykernel/iostream.py\", line 215, in _really_send\n",
      "    ctx.term()\n",
      "  File \"zmq/backend/cython/context.pyx\", line 136, in zmq.backend.cython.context.Context.term (zmq/backend/cython/context.c:2339)\n",
      "  File \"zmq/backend/cython/checkrc.pxd\", line 12, in zmq.backend.cython.checkrc._check_rc (zmq/backend/cython/context.c:3207)\n",
      "    PyErr_CheckSignals()\n",
      "KeyboardInterrupt\n",
      "Exception in thread Thread-4:\n",
      "Traceback (most recent call last):\n",
      "  File \"/home/cvpr/anaconda2/lib/python2.7/threading.py\", line 801, in __bootstrap_inner\n",
      "    self.run()\n",
      "  File \"/home/cvpr/anaconda2/lib/python2.7/threading.py\", line 754, in run\n",
      "    self.__target(*self.__args, **self.__kwargs)\n",
      "  File \"/home/cvpr/anaconda2/lib/python2.7/multiprocessing/pool.py\", line 326, in _handle_workers\n",
      "    pool._maintain_pool()\n",
      "  File \"/home/cvpr/anaconda2/lib/python2.7/multiprocessing/pool.py\", line 230, in _maintain_pool\n",
      "    self._repopulate_pool()\n",
      "  File \"/home/cvpr/anaconda2/lib/python2.7/multiprocessing/pool.py\", line 223, in _repopulate_pool\n",
      "    w.start()\n",
      "  File \"/home/cvpr/anaconda2/lib/python2.7/multiprocessing/process.py\", line 130, in start\n",
      "    self._popen = Popen(self)\n",
      "  File \"/home/cvpr/anaconda2/lib/python2.7/multiprocessing/forking.py\", line 126, in __init__\n",
      "    code = process_obj._bootstrap()\n",
      "  File \"/home/cvpr/anaconda2/lib/python2.7/multiprocessing/process.py\", line 276, in _bootstrap\n",
      "    traceback.print_exc()\n",
      "  File \"/home/cvpr/anaconda2/lib/python2.7/traceback.py\", line 233, in print_exc\n",
      "    print_exception(etype, value, tb, limit, file)\n",
      "  File \"/home/cvpr/anaconda2/lib/python2.7/traceback.py\", line 125, in print_exception\n",
      "    print_tb(tb, limit, file)\n",
      "  File \"/home/cvpr/anaconda2/lib/python2.7/traceback.py\", line 67, in print_tb\n",
      "    '  File \"%s\", line %d, in %s' % (filename, lineno, name))\n",
      "  File \"/home/cvpr/anaconda2/lib/python2.7/traceback.py\", line 13, in _print\n",
      "    file.write(str+terminator)\n",
      "  File \"/home/cvpr/anaconda2/lib/python2.7/site-packages/ipykernel/iostream.py\", line 377, in write\n",
      "    self.flush()\n",
      "  File \"/home/cvpr/anaconda2/lib/python2.7/site-packages/ipykernel/iostream.py\", line 324, in flush\n",
      "    self._flush()\n",
      "  File \"/home/cvpr/anaconda2/lib/python2.7/site-packages/ipykernel/iostream.py\", line 341, in _flush\n",
      "    parent=self.parent_header, ident=self.topic)\n",
      "  File \"/home/cvpr/anaconda2/lib/python2.7/site-packages/jupyter_client/session.py\", line 684, in send\n",
      "    stream.send_multipart(to_send, copy=copy)\n",
      "  File \"/home/cvpr/anaconda2/lib/python2.7/site-packages/ipykernel/iostream.py\", line 199, in send_multipart\n",
      "    self.schedule(lambda : self._really_send(*args, **kwargs))\n",
      "  File \"/home/cvpr/anaconda2/lib/python2.7/site-packages/ipykernel/iostream.py\", line 192, in schedule\n",
      "    f()\n",
      "  File \"/home/cvpr/anaconda2/lib/python2.7/site-packages/ipykernel/iostream.py\", line 199, in <lambda>\n",
      "    self.schedule(lambda : self._really_send(*args, **kwargs))\n",
      "  File \"/home/cvpr/anaconda2/lib/python2.7/site-packages/ipykernel/iostream.py\", line 215, in _really_send\n",
      "    ctx.term()\n",
      "  File \"zmq/backend/cython/context.pyx\", line 136, in zmq.backend.cython.context.Context.term (zmq/backend/cython/context.c:2339)\n",
      "  File \"zmq/backend/cython/checkrc.pxd\", line 12, in zmq.backend.cython.checkrc._check_rc (zmq/backend/cython/context.c:3207)\n",
      "    PyErr_CheckSignals()\n",
      "KeyboardInterrupt\n",
      "Exception in thread Thread-4:\n",
      "Traceback (most recent call last):\n",
      "  File \"/home/cvpr/anaconda2/lib/python2.7/threading.py\", line 801, in __bootstrap_inner\n",
      "    self.run()\n",
      "  File \"/home/cvpr/anaconda2/lib/python2.7/threading.py\", line 754, in run\n",
      "    self.__target(*self.__args, **self.__kwargs)\n",
      "  File \"/home/cvpr/anaconda2/lib/python2.7/multiprocessing/pool.py\", line 326, in _handle_workers\n",
      "    pool._maintain_pool()\n",
      "  File \"/home/cvpr/anaconda2/lib/python2.7/multiprocessing/pool.py\", line 230, in _maintain_pool\n",
      "    self._repopulate_pool()\n",
      "  File \"/home/cvpr/anaconda2/lib/python2.7/multiprocessing/pool.py\", line 223, in _repopulate_pool\n",
      "    w.start()\n",
      "  File \"/home/cvpr/anaconda2/lib/python2.7/multiprocessing/process.py\", line 130, in start\n",
      "    self._popen = Popen(self)\n",
      "  File \"/home/cvpr/anaconda2/lib/python2.7/multiprocessing/forking.py\", line 126, in __init__\n",
      "    code = process_obj._bootstrap()\n",
      "  File \"/home/cvpr/anaconda2/lib/python2.7/multiprocessing/process.py\", line 276, in _bootstrap\n",
      "    traceback.print_exc()\n",
      "  File \"/home/cvpr/anaconda2/lib/python2.7/traceback.py\", line 233, in print_exc\n",
      "    print_exception(etype, value, tb, limit, file)\n",
      "  File \"/home/cvpr/anaconda2/lib/python2.7/traceback.py\", line 125, in print_exception\n",
      "    print_tb(tb, limit, file)\n",
      "  File \"/home/cvpr/anaconda2/lib/python2.7/traceback.py\", line 67, in print_tb\n",
      "    '  File \"%s\", line %d, in %s' % (filename, lineno, name))\n",
      "  File \"/home/cvpr/anaconda2/lib/python2.7/traceback.py\", line 13, in _print\n",
      "    file.write(str+terminator)\n",
      "  File \"/home/cvpr/anaconda2/lib/python2.7/site-packages/ipykernel/iostream.py\", line 377, in write\n",
      "    self.flush()\n",
      "  File \"/home/cvpr/anaconda2/lib/python2.7/site-packages/ipykernel/iostream.py\", line 324, in flush\n",
      "    self._flush()\n",
      "  File \"/home/cvpr/anaconda2/lib/python2.7/site-packages/ipykernel/iostream.py\", line 341, in _flush\n",
      "    parent=self.parent_header, ident=self.topic)\n",
      "  File \"/home/cvpr/anaconda2/lib/python2.7/site-packages/jupyter_client/session.py\", line 684, in send\n",
      "    stream.send_multipart(to_send, copy=copy)\n",
      "  File \"/home/cvpr/anaconda2/lib/python2.7/site-packages/ipykernel/iostream.py\", line 199, in send_multipart\n",
      "    self.schedule(lambda : self._really_send(*args, **kwargs))\n",
      "  File \"/home/cvpr/anaconda2/lib/python2.7/site-packages/ipykernel/iostream.py\", line 192, in schedule\n",
      "    f()\n",
      "  File \"/home/cvpr/anaconda2/lib/python2.7/site-packages/ipykernel/iostream.py\", line 199, in <lambda>\n",
      "    self.schedule(lambda : self._really_send(*args, **kwargs))\n",
      "  File \"/home/cvpr/anaconda2/lib/python2.7/site-packages/ipykernel/iostream.py\", line 215, in _really_send\n",
      "    ctx.term()\n",
      "  File \"zmq/backend/cython/context.pyx\", line 136, in zmq.backend.cython.context.Context.term (zmq/backend/cython/context.c:2339)\n",
      "  File \"zmq/backend/cython/checkrc.pxd\", line 12, in zmq.backend.cython.checkrc._check_rc (zmq/backend/cython/context.c:3207)\n",
      "    PyErr_CheckSignals()\n",
      "KeyboardInterrupt\n",
      "Traceback (most recent call last):\n",
      "Traceback (most recent call last):\n",
      "Exception in thread Thread-4:\n",
      "Traceback (most recent call last):\n",
      "  File \"/home/cvpr/anaconda2/lib/python2.7/threading.py\", line 801, in __bootstrap_inner\n",
      "    self.run()\n",
      "  File \"/home/cvpr/anaconda2/lib/python2.7/threading.py\", line 754, in run\n",
      "    self.__target(*self.__args, **self.__kwargs)\n",
      "  File \"/home/cvpr/anaconda2/lib/python2.7/multiprocessing/pool.py\", line 326, in _handle_workers\n",
      "    pool._maintain_pool()\n",
      "  File \"/home/cvpr/anaconda2/lib/python2.7/multiprocessing/pool.py\", line 230, in _maintain_pool\n",
      "    self._repopulate_pool()\n",
      "  File \"/home/cvpr/anaconda2/lib/python2.7/multiprocessing/pool.py\", line 223, in _repopulate_pool\n",
      "    w.start()\n",
      "  File \"/home/cvpr/anaconda2/lib/python2.7/multiprocessing/process.py\", line 130, in start\n",
      "    self._popen = Popen(self)\n",
      "  File \"/home/cvpr/anaconda2/lib/python2.7/multiprocessing/forking.py\", line 126, in __init__\n",
      "    code = process_obj._bootstrap()\n",
      "  File \"/home/cvpr/anaconda2/lib/python2.7/multiprocessing/process.py\", line 276, in _bootstrap\n",
      "    traceback.print_exc()\n",
      "  File \"/home/cvpr/anaconda2/lib/python2.7/traceback.py\", line 233, in print_exc\n",
      "    print_exception(etype, value, tb, limit, file)\n",
      "  File \"/home/cvpr/anaconda2/lib/python2.7/traceback.py\", line 125, in print_exception\n",
      "    print_tb(tb, limit, file)\n",
      "  File \"/home/cvpr/anaconda2/lib/python2.7/traceback.py\", line 67, in print_tb\n",
      "    '  File \"%s\", line %d, in %s' % (filename, lineno, name))\n",
      "  File \"/home/cvpr/anaconda2/lib/python2.7/traceback.py\", line 13, in _print\n",
      "    file.write(str+terminator)\n",
      "  File \"/home/cvpr/anaconda2/lib/python2.7/site-packages/ipykernel/iostream.py\", line 377, in write\n",
      "    self.flush()\n",
      "  File \"/home/cvpr/anaconda2/lib/python2.7/site-packages/ipykernel/iostream.py\", line 324, in flush\n",
      "    self._flush()\n",
      "  File \"/home/cvpr/anaconda2/lib/python2.7/site-packages/ipykernel/iostream.py\", line 341, in _flush\n",
      "    parent=self.parent_header, ident=self.topic)\n",
      "  File \"/home/cvpr/anaconda2/lib/python2.7/site-packages/jupyter_client/session.py\", line 684, in send\n",
      "    stream.send_multipart(to_send, copy=copy)\n",
      "  File \"/home/cvpr/anaconda2/lib/python2.7/site-packages/ipykernel/iostream.py\", line 199, in send_multipart\n",
      "    self.schedule(lambda : self._really_send(*args, **kwargs))\n",
      "  File \"/home/cvpr/anaconda2/lib/python2.7/site-packages/ipykernel/iostream.py\", line 192, in schedule\n",
      "    f()\n",
      "  File \"/home/cvpr/anaconda2/lib/python2.7/site-packages/ipykernel/iostream.py\", line 199, in <lambda>\n",
      "    self.schedule(lambda : self._really_send(*args, **kwargs))\n",
      "  File \"/home/cvpr/anaconda2/lib/python2.7/site-packages/ipykernel/iostream.py\", line 215, in _really_send\n",
      "    ctx.term()\n",
      "  File \"zmq/backend/cython/context.pyx\", line 136, in zmq.backend.cython.context.Context.term (zmq/backend/cython/context.c:2339)\n",
      "  File \"zmq/backend/cython/checkrc.pxd\", line 12, in zmq.backend.cython.checkrc._check_rc (zmq/backend/cython/context.c:3207)\n",
      "    PyErr_CheckSignals()\n",
      "KeyboardInterrupt\n",
      "\n",
      "Exception in thread Thread-4:\n",
      "Traceback (most recent call last):\n",
      "  File \"/home/cvpr/anaconda2/lib/python2.7/threading.py\", line 801, in __bootstrap_inner\n",
      "    self.run()\n",
      "  File \"/home/cvpr/anaconda2/lib/python2.7/threading.py\", line 754, in run\n",
      "    self.__target(*self.__args, **self.__kwargs)\n",
      "  File \"/home/cvpr/anaconda2/lib/python2.7/multiprocessing/pool.py\", line 326, in _handle_workers\n",
      "    pool._maintain_pool()\n",
      "  File \"/home/cvpr/anaconda2/lib/python2.7/multiprocessing/pool.py\", line 230, in _maintain_pool\n",
      "    self._repopulate_pool()\n",
      "  File \"/home/cvpr/anaconda2/lib/python2.7/multiprocessing/pool.py\", line 223, in _repopulate_pool\n",
      "    w.start()\n",
      "  File \"/home/cvpr/anaconda2/lib/python2.7/multiprocessing/process.py\", line 130, in start\n",
      "    self._popen = Popen(self)\n",
      "  File \"/home/cvpr/anaconda2/lib/python2.7/multiprocessing/forking.py\", line 126, in __init__\n",
      "    code = process_obj._bootstrap()\n",
      "  File \"/home/cvpr/anaconda2/lib/python2.7/multiprocessing/process.py\", line 276, in _bootstrap\n",
      "    traceback.print_exc()\n",
      "  File \"/home/cvpr/anaconda2/lib/python2.7/traceback.py\", line 233, in print_exc\n",
      "    print_exception(etype, value, tb, limit, file)\n",
      "  File \"/home/cvpr/anaconda2/lib/python2.7/traceback.py\", line 124, in print_exception\n",
      "    _print(file, 'Traceback (most recent call last):')\n",
      "  File \"/home/cvpr/anaconda2/lib/python2.7/traceback.py\", line 13, in _print\n",
      "    file.write(str+terminator)\n",
      "  File \"/home/cvpr/anaconda2/lib/python2.7/site-packages/ipykernel/iostream.py\", line 377, in write\n",
      "    self.flush()\n",
      "  File \"/home/cvpr/anaconda2/lib/python2.7/site-packages/ipykernel/iostream.py\", line 324, in flush\n",
      "    self._flush()\n",
      "  File \"/home/cvpr/anaconda2/lib/python2.7/site-packages/ipykernel/iostream.py\", line 341, in _flush\n",
      "    parent=self.parent_header, ident=self.topic)\n",
      "  File \"/home/cvpr/anaconda2/lib/python2.7/site-packages/jupyter_client/session.py\", line 684, in send\n",
      "    stream.send_multipart(to_send, copy=copy)\n",
      "  File \"/home/cvpr/anaconda2/lib/python2.7/site-packages/ipykernel/iostream.py\", line 199, in send_multipart\n",
      "    self.schedule(lambda : self._really_send(*args, **kwargs))\n",
      "  File \"/home/cvpr/anaconda2/lib/python2.7/site-packages/ipykernel/iostream.py\", line 192, in schedule\n",
      "    f()\n",
      "  File \"/home/cvpr/anaconda2/lib/python2.7/site-packages/ipykernel/iostream.py\", line 199, in <lambda>\n",
      "    self.schedule(lambda : self._really_send(*args, **kwargs))\n",
      "  File \"/home/cvpr/anaconda2/lib/python2.7/site-packages/ipykernel/iostream.py\", line 215, in _really_send\n",
      "    ctx.term()\n",
      "  File \"zmq/backend/cython/context.pyx\", line 136, in zmq.backend.cython.context.Context.term (zmq/backend/cython/context.c:2339)\n",
      "  File \"zmq/backend/cython/checkrc.pxd\", line 12, in zmq.backend.cython.checkrc._check_rc (zmq/backend/cython/context.c:3207)\n",
      "    PyErr_CheckSignals()\n",
      "KeyboardInterrupt\n",
      "Exception in thread Thread-4:\n",
      "Traceback (most recent call last):\n",
      "  File \"/home/cvpr/anaconda2/lib/python2.7/threading.py\", line 801, in __bootstrap_inner\n",
      "    self.run()\n",
      "  File \"/home/cvpr/anaconda2/lib/python2.7/threading.py\", line 754, in run\n",
      "    self.__target(*self.__args, **self.__kwargs)\n",
      "  File \"/home/cvpr/anaconda2/lib/python2.7/multiprocessing/pool.py\", line 326, in _handle_workers\n",
      "    pool._maintain_pool()\n",
      "  File \"/home/cvpr/anaconda2/lib/python2.7/multiprocessing/pool.py\", line 230, in _maintain_pool\n",
      "    self._repopulate_pool()\n",
      "  File \"/home/cvpr/anaconda2/lib/python2.7/multiprocessing/pool.py\", line 223, in _repopulate_pool\n",
      "    w.start()\n",
      "  File \"/home/cvpr/anaconda2/lib/python2.7/multiprocessing/process.py\", line 130, in start\n",
      "    self._popen = Popen(self)\n",
      "  File \"/home/cvpr/anaconda2/lib/python2.7/multiprocessing/forking.py\", line 126, in __init__\n",
      "    code = process_obj._bootstrap()\n",
      "  File \"/home/cvpr/anaconda2/lib/python2.7/multiprocessing/process.py\", line 276, in _bootstrap\n",
      "    traceback.print_exc()\n",
      "  File \"/home/cvpr/anaconda2/lib/python2.7/traceback.py\", line 233, in print_exc\n",
      "    print_exception(etype, value, tb, limit, file)\n",
      "  File \"/home/cvpr/anaconda2/lib/python2.7/traceback.py\", line 125, in print_exception\n",
      "    print_tb(tb, limit, file)\n",
      "  File \"/home/cvpr/anaconda2/lib/python2.7/traceback.py\", line 70, in print_tb\n",
      "    if line: _print(file, '    ' + line.strip())\n",
      "  File \"/home/cvpr/anaconda2/lib/python2.7/traceback.py\", line 13, in _print\n",
      "    file.write(str+terminator)\n",
      "  File \"/home/cvpr/anaconda2/lib/python2.7/site-packages/ipykernel/iostream.py\", line 377, in write\n",
      "    self.flush()\n",
      "  File \"/home/cvpr/anaconda2/lib/python2.7/site-packages/ipykernel/iostream.py\", line 324, in flush\n",
      "    self._flush()\n",
      "  File \"/home/cvpr/anaconda2/lib/python2.7/site-packages/ipykernel/iostream.py\", line 341, in _flush\n",
      "    parent=self.parent_header, ident=self.topic)\n",
      "  File \"/home/cvpr/anaconda2/lib/python2.7/site-packages/jupyter_client/session.py\", line 684, in send\n",
      "    stream.send_multipart(to_send, copy=copy)\n",
      "  File \"/home/cvpr/anaconda2/lib/python2.7/site-packages/ipykernel/iostream.py\", line 199, in send_multipart\n",
      "    self.schedule(lambda : self._really_send(*args, **kwargs))\n",
      "  File \"/home/cvpr/anaconda2/lib/python2.7/site-packages/ipykernel/iostream.py\", line 192, in schedule\n",
      "    f()\n",
      "  File \"/home/cvpr/anaconda2/lib/python2.7/site-packages/ipykernel/iostream.py\", line 199, in <lambda>\n",
      "    self.schedule(lambda : self._really_send(*args, **kwargs))\n",
      "  File \"/home/cvpr/anaconda2/lib/python2.7/site-packages/ipykernel/iostream.py\", line 215, in _really_send\n",
      "    ctx.term()\n",
      "  File \"zmq/backend/cython/context.pyx\", line 136, in zmq.backend.cython.context.Context.term (zmq/backend/cython/context.c:2339)\n",
      "  File \"zmq/backend/cython/checkrc.pxd\", line 12, in zmq.backend.cython.checkrc._check_rc (zmq/backend/cython/context.c:3207)\n",
      "    PyErr_CheckSignals()\n",
      "KeyboardInterrupt\n",
      "Traceback (most recent call last):\n",
      "  File \"/home/cvpr/anaconda2/lib/python2.7/multiprocessing/process.py\", line 258, in _bootstrap\n",
      "\n",
      "\n",
      "\n",
      "\n",
      "\n",
      "  File \"/home/cvpr/anaconda2/lib/python2.7/multiprocessing/process.py\", line 258, in _bootstrap\n",
      "\n",
      "\n",
      "    self.run()\n",
      "  File \"/home/cvpr/anaconda2/lib/python2.7/multiprocessing/process.py\", line 258, in _bootstrap\n",
      "    self.run()\n",
      "  File \"/home/cvpr/anaconda2/lib/python2.7/multiprocessing/process.py\", line 114, in run\n",
      "    self.run()\n",
      "  File \"/home/cvpr/anaconda2/lib/python2.7/multiprocessing/process.py\", line 114, in run\n",
      "    self._target(*self._args, **self._kwargs)\n",
      "    self._target(*self._args, **self._kwargs)\n",
      "  File \"/home/cvpr/anaconda2/lib/python2.7/multiprocessing/process.py\", line 114, in run\n",
      "  File \"/home/cvpr/anaconda2/lib/python2.7/multiprocessing/pool.py\", line 102, in worker\n",
      "  File \"/home/cvpr/anaconda2/lib/python2.7/multiprocessing/pool.py\", line 102, in worker\n",
      "    task = get()\n",
      "    self._target(*self._args, **self._kwargs)\n",
      "  File \"/home/cvpr/anaconda2/lib/python2.7/multiprocessing/pool.py\", line 102, in worker\n",
      "  File \"/home/cvpr/anaconda2/lib/python2.7/multiprocessing/queues.py\", line 376, in get\n",
      "    task = get()\n",
      "    racquire()\n",
      "    task = get()\n",
      "  File \"/home/cvpr/anaconda2/lib/python2.7/multiprocessing/queues.py\", line 376, in get\n",
      "    racquire()\n",
      "KeyboardInterrupt\n",
      "  File \"/home/cvpr/anaconda2/lib/python2.7/multiprocessing/queues.py\", line 376, in get\n",
      "    racquire()\n",
      "KeyboardInterrupt\n",
      "KeyboardInterrupt\n"
     ]
    },
    {
     "ename": "KeyboardInterrupt",
     "evalue": "",
     "output_type": "error",
     "traceback": [
      "\u001b[0;31m---------------------------------------------------------------------------\u001b[0m",
      "\u001b[0;31mKeyboardInterrupt\u001b[0m                         Traceback (most recent call last)",
      "\u001b[0;32m<ipython-input-31-69d290aa5ff2>\u001b[0m in \u001b[0;36m<module>\u001b[0;34m()\u001b[0m\n\u001b[1;32m      2\u001b[0m \u001b[0mclf\u001b[0m \u001b[0;34m=\u001b[0m \u001b[0mRandomForestRegressor\u001b[0m\u001b[0;34m(\u001b[0m\u001b[0mn_estimators\u001b[0m\u001b[0;34m=\u001b[0m\u001b[0;36m200\u001b[0m\u001b[0;34m,\u001b[0m\u001b[0mn_jobs\u001b[0m\u001b[0;34m=\u001b[0m\u001b[0;36m16\u001b[0m\u001b[0;34m,\u001b[0m\u001b[0;34m)\u001b[0m\u001b[0;34m\u001b[0m\u001b[0m\n\u001b[1;32m      3\u001b[0m \u001b[0;31m#user_feat = pd.merge(user_feat, prob_feat, on='user_id', how='left')\u001b[0m\u001b[0;34m\u001b[0m\u001b[0;34m\u001b[0m\u001b[0m\n\u001b[0;32m----> 4\u001b[0;31m \u001b[0mclf\u001b[0m\u001b[0;34m.\u001b[0m\u001b[0mfit\u001b[0m\u001b[0;34m(\u001b[0m\u001b[0muser_feat\u001b[0m\u001b[0;34m.\u001b[0m\u001b[0msort_values\u001b[0m\u001b[0;34m(\u001b[0m\u001b[0;34m'user_id'\u001b[0m\u001b[0;34m)\u001b[0m\u001b[0;34m[\u001b[0m\u001b[0mvar\u001b[0m\u001b[0;34m[\u001b[0m\u001b[0;36m1\u001b[0m\u001b[0;34m:\u001b[0m\u001b[0;34m]\u001b[0m\u001b[0;34m]\u001b[0m\u001b[0;34m,\u001b[0m \u001b[0mf1_table\u001b[0m\u001b[0;34m.\u001b[0m\u001b[0my_thr\u001b[0m\u001b[0;34m)\u001b[0m\u001b[0;34m\u001b[0m\u001b[0m\n\u001b[0m",
      "\u001b[0;32m/home/cvpr/anaconda2/lib/python2.7/site-packages/sklearn/ensemble/forest.pyc\u001b[0m in \u001b[0;36mfit\u001b[0;34m(self, X, y, sample_weight)\u001b[0m\n\u001b[1;32m    324\u001b[0m                     \u001b[0mt\u001b[0m\u001b[0;34m,\u001b[0m \u001b[0mself\u001b[0m\u001b[0;34m,\u001b[0m \u001b[0mX\u001b[0m\u001b[0;34m,\u001b[0m \u001b[0my\u001b[0m\u001b[0;34m,\u001b[0m \u001b[0msample_weight\u001b[0m\u001b[0;34m,\u001b[0m \u001b[0mi\u001b[0m\u001b[0;34m,\u001b[0m \u001b[0mlen\u001b[0m\u001b[0;34m(\u001b[0m\u001b[0mtrees\u001b[0m\u001b[0;34m)\u001b[0m\u001b[0;34m,\u001b[0m\u001b[0;34m\u001b[0m\u001b[0m\n\u001b[1;32m    325\u001b[0m                     verbose=self.verbose, class_weight=self.class_weight)\n\u001b[0;32m--> 326\u001b[0;31m                 for i, t in enumerate(trees))\n\u001b[0m\u001b[1;32m    327\u001b[0m \u001b[0;34m\u001b[0m\u001b[0m\n\u001b[1;32m    328\u001b[0m             \u001b[0;31m# Collect newly grown trees\u001b[0m\u001b[0;34m\u001b[0m\u001b[0;34m\u001b[0m\u001b[0m\n",
      "\u001b[0;32m/home/cvpr/anaconda2/lib/python2.7/site-packages/sklearn/externals/joblib/parallel.pyc\u001b[0m in \u001b[0;36m__call__\u001b[0;34m(self, iterable)\u001b[0m\n\u001b[1;32m    766\u001b[0m                 \u001b[0;31m# consumption.\u001b[0m\u001b[0;34m\u001b[0m\u001b[0;34m\u001b[0m\u001b[0m\n\u001b[1;32m    767\u001b[0m                 \u001b[0mself\u001b[0m\u001b[0;34m.\u001b[0m\u001b[0m_iterating\u001b[0m \u001b[0;34m=\u001b[0m \u001b[0mFalse\u001b[0m\u001b[0;34m\u001b[0m\u001b[0m\n\u001b[0;32m--> 768\u001b[0;31m             \u001b[0mself\u001b[0m\u001b[0;34m.\u001b[0m\u001b[0mretrieve\u001b[0m\u001b[0;34m(\u001b[0m\u001b[0;34m)\u001b[0m\u001b[0;34m\u001b[0m\u001b[0m\n\u001b[0m\u001b[1;32m    769\u001b[0m             \u001b[0;31m# Make sure that we get a last message telling us we are done\u001b[0m\u001b[0;34m\u001b[0m\u001b[0;34m\u001b[0m\u001b[0m\n\u001b[1;32m    770\u001b[0m             \u001b[0melapsed_time\u001b[0m \u001b[0;34m=\u001b[0m \u001b[0mtime\u001b[0m\u001b[0;34m.\u001b[0m\u001b[0mtime\u001b[0m\u001b[0;34m(\u001b[0m\u001b[0;34m)\u001b[0m \u001b[0;34m-\u001b[0m \u001b[0mself\u001b[0m\u001b[0;34m.\u001b[0m\u001b[0m_start_time\u001b[0m\u001b[0;34m\u001b[0m\u001b[0m\n",
      "\u001b[0;32m/home/cvpr/anaconda2/lib/python2.7/site-packages/sklearn/externals/joblib/parallel.pyc\u001b[0m in \u001b[0;36mretrieve\u001b[0;34m(self)\u001b[0m\n\u001b[1;32m    717\u001b[0m                     \u001b[0mensure_ready\u001b[0m \u001b[0;34m=\u001b[0m \u001b[0mself\u001b[0m\u001b[0;34m.\u001b[0m\u001b[0m_managed_backend\u001b[0m\u001b[0;34m\u001b[0m\u001b[0m\n\u001b[1;32m    718\u001b[0m                     \u001b[0mbackend\u001b[0m\u001b[0;34m.\u001b[0m\u001b[0mabort_everything\u001b[0m\u001b[0;34m(\u001b[0m\u001b[0mensure_ready\u001b[0m\u001b[0;34m=\u001b[0m\u001b[0mensure_ready\u001b[0m\u001b[0;34m)\u001b[0m\u001b[0;34m\u001b[0m\u001b[0m\n\u001b[0;32m--> 719\u001b[0;31m                 \u001b[0;32mraise\u001b[0m \u001b[0mexception\u001b[0m\u001b[0;34m\u001b[0m\u001b[0m\n\u001b[0m\u001b[1;32m    720\u001b[0m \u001b[0;34m\u001b[0m\u001b[0m\n\u001b[1;32m    721\u001b[0m     \u001b[0;32mdef\u001b[0m \u001b[0m__call__\u001b[0m\u001b[0;34m(\u001b[0m\u001b[0mself\u001b[0m\u001b[0;34m,\u001b[0m \u001b[0miterable\u001b[0m\u001b[0;34m)\u001b[0m\u001b[0;34m:\u001b[0m\u001b[0;34m\u001b[0m\u001b[0m\n",
      "\u001b[0;31mKeyboardInterrupt\u001b[0m: "
     ]
    }
   ],
   "source": [
    "from sklearn.ensemble import RandomForestRegressor\n",
    "clf = RandomForestRegressor(n_estimators=200,n_jobs=16,)\n",
    "#user_feat = pd.merge(user_feat, prob_feat, on='user_id', how='left')\n",
    "clf.fit(user_feat.sort_values('user_id')[var[1:]], f1_table.y_thr)"
   ]
  },
  {
   "cell_type": "code",
   "execution_count": null,
   "metadata": {
    "collapsed": true
   },
   "outputs": [],
   "source": []
  },
  {
   "cell_type": "code",
   "execution_count": 24,
   "metadata": {
    "collapsed": false
   },
   "outputs": [
    {
     "data": {
      "text/plain": [
       "0.90324118299973744"
      ]
     },
     "execution_count": 24,
     "metadata": {},
     "output_type": "execute_result"
    }
   ],
   "source": [
    "clf.score(user_feat.sort_values('user_id')[var[1:]], f1_table.y_thr)"
   ]
  },
  {
   "cell_type": "code",
   "execution_count": 27,
   "metadata": {
    "collapsed": true
   },
   "outputs": [],
   "source": [
    "grouped_df = test_preds.groupby('user_id')\n",
    "prob_feat = pd.DataFrame()\n",
    "prob_feat['mean_prob'] = grouped_df['predicted'].mean()\n",
    "prob_feat['sum_prob'] = grouped_df['predicted'].sum()\n",
    "prob_feat.reset_index(inplace=True)\n",
    "test = pd.read_csv(ROOT_DIR + 'cleaned_test/test.csv', usecols=var)\n",
    "test = pd.merge(test, prob_feat, on='user_id', how='left')\n",
    "test['y_thr'] = clf.predict(test[var[1:]])"
   ]
  },
  {
   "cell_type": "code",
   "execution_count": 28,
   "metadata": {
    "collapsed": true
   },
   "outputs": [],
   "source": [
    "test_preds = pd.merge(test_preds, test[['user_id', 'y_thr']].drop_duplicates('user_id'), on='user_id', how='left')"
   ]
  },
  {
   "cell_type": "code",
   "execution_count": 29,
   "metadata": {
    "collapsed": true
   },
   "outputs": [],
   "source": [
    "def get_submission(x, threshold=0.2):\n",
    "    y_pred = ' '.join(np.concatenate([x.loc[x.predicted>x.y_thr, 'product_id']]).astype(np.str))\n",
    "    if len(y_pred) == 0:\n",
    "        y_pred = 'None'\n",
    "    if '49689' in y_pred.split(' '):\n",
    "        y_pred = 'None'\n",
    "    return y_pred"
   ]
  },
  {
   "cell_type": "code",
   "execution_count": 30,
   "metadata": {
    "collapsed": true
   },
   "outputs": [],
   "source": [
    "sub_df = test_preds.groupby('order_id').apply(get_submission).reset_index()\n",
    "sub_df.columns = ['order_id', 'products']\n",
    "sub_df.to_csv(ROOT_DIR+'none_handled_0.37.csv', index=False)"
   ]
  },
  {
   "cell_type": "code",
   "execution_count": 15,
   "metadata": {
    "collapsed": false
   },
   "outputs": [
    {
     "data": {
      "text/html": [
       "<div>\n",
       "<style>\n",
       "    .dataframe thead tr:only-child th {\n",
       "        text-align: right;\n",
       "    }\n",
       "\n",
       "    .dataframe thead th {\n",
       "        text-align: left;\n",
       "    }\n",
       "\n",
       "    .dataframe tbody tr th {\n",
       "        vertical-align: top;\n",
       "    }\n",
       "</style>\n",
       "<table border=\"1\" class=\"dataframe\">\n",
       "  <thead>\n",
       "    <tr style=\"text-align: right;\">\n",
       "      <th></th>\n",
       "      <th>user_id</th>\n",
       "      <th>y_thr</th>\n",
       "    </tr>\n",
       "  </thead>\n",
       "  <tbody>\n",
       "    <tr>\n",
       "      <th>0</th>\n",
       "      <td>1</td>\n",
       "      <td>0.0</td>\n",
       "    </tr>\n",
       "    <tr>\n",
       "      <th>6</th>\n",
       "      <td>10</td>\n",
       "      <td>0.0</td>\n",
       "    </tr>\n",
       "    <tr>\n",
       "      <th>23</th>\n",
       "      <td>44</td>\n",
       "      <td>0.0</td>\n",
       "    </tr>\n",
       "    <tr>\n",
       "      <th>25</th>\n",
       "      <td>47</td>\n",
       "      <td>0.0</td>\n",
       "    </tr>\n",
       "    <tr>\n",
       "      <th>58</th>\n",
       "      <td>93</td>\n",
       "      <td>0.0</td>\n",
       "    </tr>\n",
       "  </tbody>\n",
       "</table>\n",
       "</div>"
      ],
      "text/plain": [
       "    user_id  y_thr\n",
       "0         1    0.0\n",
       "6        10    0.0\n",
       "23       44    0.0\n",
       "25       47    0.0\n",
       "58       93    0.0"
      ]
     },
     "execution_count": 15,
     "metadata": {},
     "output_type": "execute_result"
    }
   ],
   "source": [
    "f1_table[f1_table.y_thr==0].head()"
   ]
  },
  {
   "cell_type": "code",
   "execution_count": 34,
   "metadata": {
    "collapsed": false
   },
   "outputs": [
    {
     "data": {
      "text/plain": [
       "y_thr\n",
       "0.000    0.089722\n",
       "0.001    0.283404\n",
       "0.002    0.212478\n",
       "0.003    0.199579\n",
       "0.004    0.116851\n",
       "0.005    0.104051\n",
       "0.006    0.130327\n",
       "0.007    0.097147\n",
       "0.008    0.101163\n",
       "0.009    0.091132\n",
       "0.010    0.068732\n",
       "0.030    0.089065\n",
       "0.050    0.091549\n",
       "0.070    0.095337\n",
       "0.090    0.097346\n",
       "0.110    0.101331\n",
       "0.130    0.105818\n",
       "0.150    0.109439\n",
       "0.170    0.113004\n",
       "0.190    0.119369\n",
       "0.210    0.122972\n",
       "0.230    0.127897\n",
       "0.250    0.131612\n",
       "0.270    0.139319\n",
       "0.290    0.140718\n",
       "0.310    0.148214\n",
       "0.330    0.150221\n",
       "0.350    0.155211\n",
       "0.370    0.161391\n",
       "0.390    0.161757\n",
       "Name: predicted, dtype: float64"
      ]
     },
     "execution_count": 34,
     "metadata": {},
     "output_type": "execute_result"
    }
   ],
   "source": [
    "out_of_fold.groupby('y_thr')['predicted'].mean()"
   ]
  },
  {
   "cell_type": "code",
   "execution_count": 41,
   "metadata": {
    "collapsed": false
   },
   "outputs": [
    {
     "data": {
      "text/plain": [
       "<matplotlib.axes._subplots.AxesSubplot at 0x7fe43438da50>"
      ]
     },
     "execution_count": 41,
     "metadata": {},
     "output_type": "execute_result"
    },
    {
     "data": {
      "image/png": "[encoded data removed]",
      "text/plain": [
       "<matplotlib.figure.Figure at 0x7fe4339d8410>"
      ]
     },
     "metadata": {},
     "output_type": "display_data"
    }
   ],
   "source": [
    "plt.figure()\n",
    "sns.distplot(np.log1p(out_of_fold[out_of_fold.y_thr==0.0].predicted), bins=100, color='blue',)\n",
    "sns.distplot(np.log1p(out_of_fold[out_of_fold.y_thr==0.001].predicted), bins=100, color='green')\n",
    "sns.distplot(np.log1p(out_of_fold[out_of_fold.y_thr==0.002].predicted), bins=100, color='red')\n",
    "sns.distplot(np.log1p(out_of_fold[out_of_fold.y_thr==0.003].predicted), bins=100, color='yellow')\n",
    "sns.distplot(np.log1p(out_of_fold[out_of_fold.y_thr==0.004].predicted), bins=100, color='black')"
   ]
  },
  {
   "cell_type": "code",
   "execution_count": 18,
   "metadata": {
    "collapsed": true
   },
   "outputs": [],
   "source": [
    "h = out_of_fold.groupby(['order_id','y_thr']).size().reset_index()"
   ]
  },
  {
   "cell_type": "code",
   "execution_count": 19,
   "metadata": {
    "collapsed": false
   },
   "outputs": [
    {
     "data": {
      "text/plain": [
       "y_thr\n",
       "0       22.217402\n",
       "1       27.578715\n",
       "2       30.365602\n",
       "3       33.259853\n",
       "4       36.862949\n",
       "5       39.795385\n",
       "6       42.580110\n",
       "7       45.152297\n",
       "8       49.003550\n",
       "9       49.969181\n",
       "10      52.197393\n",
       "20      61.689796\n",
       "30      77.244044\n",
       "40      89.314012\n",
       "50     102.808359\n",
       "60     114.807018\n",
       "70     118.946429\n",
       "80     127.662921\n",
       "90     138.653061\n",
       "100    143.714286\n",
       "110    163.142857\n",
       "120    159.625000\n",
       "130    172.333333\n",
       "140    184.125000\n",
       "150    171.000000\n",
       "160    191.666667\n",
       "170    221.333333\n",
       "180    233.000000\n",
       "Name: 0, dtype: float64"
      ]
     },
     "execution_count": 19,
     "metadata": {},
     "output_type": "execute_result"
    }
   ],
   "source": [
    "h.groupby('y_thr')[0].mean()"
   ]
  },
  {
   "cell_type": "code",
   "execution_count": 18,
   "metadata": {
    "collapsed": true
   },
   "outputs": [],
   "source": [
    "h = out_of_fold.groupby(['order_id','y_thr']).size().reset_index()"
   ]
  },
  {
   "cell_type": "markdown",
   "metadata": {},
   "source": [
    "lower candidate size causes lower threshold"
   ]
  },
  {
   "cell_type": "code",
   "execution_count": 19,
   "metadata": {
    "collapsed": false
   },
   "outputs": [
    {
     "data": {
      "text/plain": [
       "y_thr\n",
       "0.000    20.118413\n",
       "0.001    55.200000\n",
       "0.002    79.000000\n",
       "0.003    64.500000\n",
       "0.004    83.540541\n",
       "0.005    75.326531\n",
       "0.006    52.578125\n",
       "0.007    57.214286\n",
       "0.008    50.240310\n",
       "0.009    47.835681\n",
       "0.010    70.258883\n",
       "0.030    43.231092\n",
       "0.050    42.526066\n",
       "0.070    41.759450\n",
       "0.090    44.335076\n",
       "0.110    44.849292\n",
       "0.130    45.998349\n",
       "0.150    47.072110\n",
       "0.170    48.377059\n",
       "0.190    48.255733\n",
       "0.210    48.711837\n",
       "0.230    48.787592\n",
       "0.250    48.521910\n",
       "0.270    48.579611\n",
       "0.290    48.922615\n",
       "0.310    48.027419\n",
       "0.330    47.453794\n",
       "0.350    48.779298\n",
       "0.370    49.018621\n",
       "0.390    53.696802\n",
       "Name: 0, dtype: float64"
      ]
     },
     "execution_count": 19,
     "metadata": {},
     "output_type": "execute_result"
    }
   ],
   "source": [
    "h.groupby('y_thr')[0].mean()"
   ]
  },
  {
   "cell_type": "code",
   "execution_count": 23,
   "metadata": {
    "collapsed": false
   },
   "outputs": [
    {
     "data": {
      "image/png": "[encoded data removed]",
      "text/plain": [
       "<matplotlib.figure.Figure at 0x7feb6b040210>"
      ]
     },
     "metadata": {},
     "output_type": "display_data"
    }
   ],
   "source": [
    "plt.figure()\n",
    "sns.distplot(h[h[0]<=20].y_thr,bins=100, color='red', label='basket<20')\n",
    "sns.distplot(h[h[0]>20].y_thr,bins=100, color='blue', label='basket>20')\n",
    "plt.legend(loc='best')\n",
    "plt.show()"
   ]
  },
  {
   "cell_type": "code",
   "execution_count": 26,
   "metadata": {
    "collapsed": false
   },
   "outputs": [
    {
     "data": {
      "text/plain": [
       "order_id\n",
       "38     0.0\n",
       "226    0.0\n",
       "456    0.0\n",
       "719    0.0\n",
       "774    0.0\n",
       "dtype: float64"
      ]
     },
     "execution_count": 26,
     "metadata": {},
     "output_type": "execute_result"
    }
   ],
   "source": [
    "var = ['user_id', 'user_basket_size_in_last0_order','user_basket_size_in_last1_order','user_average_basket_size', \n",
    "       'user_reorder_rate', 'user_reorders', 'user_nb_orders','user_total_items', 'user_total_distinct_items', \n",
    "       'days_since_ratio', 'days_since_prior_order', 'user_average_days_between_orders', 'unique_aisles', 'unique_departments',\n",
    "       'user_total_items_recent', 'user_total_distinct_items_recent','user_reorder_rate_recent', 'user_reorders_recent', \n",
    "       'user_average_days_between_orders_recent', 'user_average_basket_size_recent', 'order_hour_of_day', 'cumulative_time','days_since_cumulative_ratio'\n",
    "       ,'user_order_velocity', 'days_since_prior_order_lag1', 'days_since_prior_order_lag2', 'days_since_prior_lag1_ratio', 'days_since_prior_lag2_ratio'\n",
    "      ]\n",
    "train = pd.read_csv(ROOT_DIR+'cleaned_train/valid_onr_0.csv', usecols=var).drop_duplicates('user_id')"
   ]
  },
  {
   "cell_type": "code",
   "execution_count": 32,
   "metadata": {
    "collapsed": false
   },
   "outputs": [
    {
     "data": {
      "text/plain": [
       "array([ 0.00100231,  0.00101605,  0.00102998,  0.00104411,  0.00105843,\n",
       "        0.00107294,  0.00108766,  0.00110257,  0.00111769,  0.00113302,\n",
       "        0.00114856,  0.00116431,  0.00118027,  0.00119646,  0.00121287,\n",
       "        0.0012295 ,  0.00124636,  0.00126345,  0.00128078,  0.00129834,\n",
       "        0.00131615,  0.0013342 ,  0.00135249,  0.00137104,  0.00138984,\n",
       "        0.0014089 ,  0.00142822,  0.00144781,  0.00146767,  0.00148779,\n",
       "        0.0015082 ,  0.00152888,  0.00154984,  0.0015711 ,  0.00159264,\n",
       "        0.00161448,  0.00163662,  0.00165907,  0.00168182,  0.00170488,\n",
       "        0.00172826,  0.00175196,  0.00177599,  0.00180035,  0.00182503,\n",
       "        0.00185006,  0.00187543,  0.00190115,  0.00192722,  0.00195365,\n",
       "        0.00198044,  0.0020076 ,  0.00203513,  0.00206304,  0.00209134,\n",
       "        0.00212002,  0.00214909,  0.00217856,  0.00220844,  0.00223872])"
      ]
     },
     "execution_count": 32,
     "metadata": {},
     "output_type": "execute_result"
    }
   ],
   "source": [
    "np.arange()"
   ]
  },
  {
   "cell_type": "code",
   "execution_count": 23,
   "metadata": {
    "collapsed": true
   },
   "outputs": [],
   "source": []
  },
  {
   "cell_type": "code",
   "execution_count": 24,
   "metadata": {
    "collapsed": true
   },
   "outputs": [],
   "source": []
  }
 ],
 "metadata": {
  "anaconda-cloud": {},
  "kernelspec": {
   "display_name": "Python [default]",
   "language": "python",
   "name": "python3"
  },
  "language_info": {
   "codemirror_mode": {
    "name": "ipython",
    "version": 3
   },
   "file_extension": ".py",
   "mimetype": "text/x-python",
   "name": "python",
   "nbconvert_exporter": "python",
   "pygments_lexer": "ipython3",
   "version": "3.5.2"
  }
 },
 "nbformat": 4,
 "nbformat_minor": 2
}
