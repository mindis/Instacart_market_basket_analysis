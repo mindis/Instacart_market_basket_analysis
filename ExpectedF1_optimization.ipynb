{
 "cells": [
  {
   "cell_type": "code",
   "execution_count": 1,
   "metadata": {
    "collapsed": true
   },
   "outputs": [],
   "source": [
    "%matplotlib inline\n",
    "import numpy as np\n",
    "import pandas as pd\n",
    "import os\n",
    "import glob\n",
    "import gc\n",
    "import functools\n",
    "from FaronF1 import F1Optimizer\n",
    "from multiprocessing import cpu_count,Pool\n",
    "import lightgbm as lgb\n",
    "import matplotlib.pyplot as plt\n",
    "import seaborn as sns\n",
    "from scipy.stats import spearmanr\n",
    "from sklearn.ensemble import RandomForestRegressor\n",
    "pd.options.display.max_columns=400\n",
    "pd.options.display.max_rows=400\n"
   ]
  },
  {
   "cell_type": "code",
   "execution_count": 2,
   "metadata": {
    "collapsed": true
   },
   "outputs": [],
   "source": [
    "ROOT_DIR = '../data/instacart/files/'\n",
    "out_of_fold = pd.read_csv(ROOT_DIR+'out_of_fold_preds.csv', usecols=['user_id', 'order_id', 'product_id', 'predicted'])\n",
    "test_preds = pd.read_csv(ROOT_DIR+'test_preds.csv')\n",
    "test_preds.rename(columns={'preds':'predicted'}, inplace=True)\n",
    "test_preds.sort_values(['user_id', 'predicted'], ascending=[True, False], inplace=True)"
   ]
  },
  {
   "cell_type": "code",
   "execution_count": 3,
   "metadata": {
    "collapsed": true
   },
   "outputs": [],
   "source": [
    "def f1_maximization(order_id):\n",
    "    p_vals = test_preds.loc[test_preds.order_id==order_id, 'predicted'].values\n",
    "    k,is_none,expected_F1 = F1Optimizer.maximize_expectation(p_vals)\n",
    "    return k,is_none,expected_F1"
   ]
  },
  {
   "cell_type": "code",
   "execution_count": 4,
   "metadata": {
    "collapsed": true
   },
   "outputs": [],
   "source": [
    "p = Pool(cpu_count())\n",
    "expected_F1 = p.map(f1_maximization, list(test_preds.order_id.unique()))"
   ]
  },
  {
   "cell_type": "code",
   "execution_count": 8,
   "metadata": {
    "collapsed": true
   },
   "outputs": [],
   "source": [
    "write_dict = {}\n",
    "for i,order in enumerate(test_preds.order_id.unique()):\n",
    "    bask_size = expected_F1[i][0]\n",
    "    if bask_size==0:\n",
    "        write_dict[order] = 'None'\n",
    "    else:\n",
    "        products = test_preds.loc[test_preds.order_id==order, 'product_id'].values[:bask_size].astype(np.str)\n",
    "        write_dict[order] = ' '.join(products)\n",
    "    "
   ]
  },
  {
   "cell_type": "code",
   "execution_count": 19,
   "metadata": {
    "collapsed": true
   },
   "outputs": [],
   "source": [
    "write_dict = pd.DataFrame.from_dict(write_dict, orient='index')\n"
   ]
  },
  {
   "cell_type": "code",
   "execution_count": 20,
   "metadata": {
    "collapsed": true
   },
   "outputs": [],
   "source": [
    "write_dict.reset_index(inplace=True)\n",
    "write_dict.columns = ['order_id', 'products']\n",
    "write_dict.to_csv(ROOT_DIR+'maximize_expectation.csv', index=False)"
   ]
  },
  {
   "cell_type": "code",
   "execution_count": null,
   "metadata": {
    "collapsed": true
   },
   "outputs": [],
   "source": []
  }
 ],
 "metadata": {
  "anaconda-cloud": {},
  "kernelspec": {
   "display_name": "Python [default]",
   "language": "python",
   "name": "python3"
  },
  "language_info": {
   "codemirror_mode": {
    "name": "ipython",
    "version": 3
   },
   "file_extension": ".py",
   "mimetype": "text/x-python",
   "name": "python",
   "nbconvert_exporter": "python",
   "pygments_lexer": "ipython3",
   "version": "3.5.2"
  }
 },
 "nbformat": 4,
 "nbformat_minor": 2
}
