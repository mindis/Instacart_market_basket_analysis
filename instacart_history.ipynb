{
 "cells": [
  {
   "cell_type": "code",
   "execution_count": 1,
   "metadata": {
    "collapsed": false
   },
   "outputs": [],
   "source": [
    "%matplotlib inline\n",
    "import numpy as np\n",
    "import pandas as pd\n",
    "import os\n",
    "import glob\n",
    "import lightgbm as lgb\n",
    "import matplotlib.pyplot as plt"
   ]
  },
  {
   "cell_type": "code",
   "execution_count": 2,
   "metadata": {
    "collapsed": true
   },
   "outputs": [],
   "source": [
    "ROOT_DIR = '../data/instacart/files/'"
   ]
  },
  {
   "cell_type": "code",
   "execution_count": 3,
   "metadata": {
    "collapsed": false
   },
   "outputs": [
    {
     "name": "stdout",
     "output_type": "stream",
     "text": [
      "loading prior\n",
      "loading train\n",
      "loading orders\n",
      "loading products\n",
      "priors (32434489, 4):order_id,product_id,add_to_cart_order,reordered\n",
      "orders (3421083, 7):order_id,user_id,eval_set,order_number,order_dow,order_hour_of_day,days_since_prior_order\n",
      "train (1384617, 4):order_id,product_id,add_to_cart_order,reordered\n"
     ]
    }
   ],
   "source": [
    "print('loading prior')\n",
    "priors = pd.read_csv(ROOT_DIR+'order_products__prior.csv', dtype={\n",
    "    'order_id':np.int32,\n",
    "    'product_id':np.uint16,\n",
    "    'add_to_cart_order':np.int16,\n",
    "    'reordered':np.int8\n",
    "})\n",
    "\n",
    "print('loading train')\n",
    "train = pd.read_csv(ROOT_DIR+'order_products__train.csv', dtype={\n",
    "    'order_id':np.int32,\n",
    "    'product_id':np.uint16,\n",
    "    'add_to_cart_order':np.int16,\n",
    "    'reordered':np.int8\n",
    "})\n",
    "\n",
    "print('loading orders')\n",
    "orders = pd.read_csv(ROOT_DIR+'orders.csv', dtype={\n",
    "    'order_id':np.int32,\n",
    "    'user_id':np.int32,\n",
    "    'eval_set':'category',\n",
    "    'order_number':np.int16,\n",
    "    'order_dow':np.int8,\n",
    "    'order_hour_of_day':np.int8,\n",
    "    'days_since_prior_order':np.float32\n",
    "})\n",
    "\n",
    "print('loading products')\n",
    "products = pd.read_csv(ROOT_DIR+'products.csv', dtype={\n",
    "    'product_id':np.uint16,\n",
    "    'order_id':np.int32,\n",
    "    'department_id':np.uint8}, usecols=['product_id', 'aisle_id', 'department_id'])\n",
    "\n",
    "print('priors {}:{}'.format(priors.shape, ','.join(priors.columns)))\n",
    "print('orders {}:{}'.format(orders.shape, ','.join(orders.columns)))\n",
    "print('train {}:{}'.format(train.shape, ','.join(train.columns)))\n"
   ]
  },
  {
   "cell_type": "markdown",
   "metadata": {},
   "source": [
    "#### Joining and Preprocessing"
   ]
  },
  {
   "cell_type": "code",
   "execution_count": 4,
   "metadata": {
    "collapsed": false
   },
   "outputs": [
    {
     "name": "stdout",
     "output_type": "stream",
     "text": [
      "add orders info to priors and train\n"
     ]
    }
   ],
   "source": [
    "print('add orders info to priors and train')\n",
    "orders.set_index('order_id', inplace=True, drop=False)\n",
    "orders['last_order_number'] = orders.groupby('user_id')['order_number'].transform(max)\n",
    "orders['order_number_reverse'] = orders['last_order_number'] - orders['order_number']\n",
    "orders.drop('last_order_number', axis=1, inplace=True)\n",
    "\n",
    "priors = priors.join(orders, on='order_id', rsuffix='_')\n",
    "priors.drop('order_id_', inplace=True, axis=1)\n",
    "\n",
    "train = train.join(orders, on='order_id', rsuffix='_')\n",
    "train.drop('order_id_', inplace=True, axis=1)"
   ]
  },
  {
   "cell_type": "markdown",
   "metadata": {},
   "source": [
    "#### Functions for features"
   ]
  },
  {
   "cell_type": "code",
   "execution_count": 5,
   "metadata": {
    "collapsed": false
   },
   "outputs": [],
   "source": [
    "def get_product_features(n, reference_df, eval_set='prior' ):\n",
    "    order_ids = orders.loc[(orders.order_number_reverse > n), 'order_id']\n",
    "    current = reference_df[reference_df.order_id.isin(order_ids)]\n",
    "    prods = pd.DataFrame()\n",
    "    prods['product_orders'] = current.groupby(current.product_id).size().astype(np.int32)\n",
    "    prods['product_reorders'] = current['reordered'].groupby(current.product_id).sum().astype(np.float32)\n",
    "    prods['product_reorder_rate'] = (prods.product_reorders/len(order_ids)).astype(np.float32)\n",
    "    prods.reset_index(inplace=True)\n",
    "    prods = pd.merge(prods, products, on='product_id', how='left') \n",
    "    return prods"
   ]
  },
  {
   "cell_type": "code",
   "execution_count": 6,
   "metadata": {
    "collapsed": true
   },
   "outputs": [],
   "source": [
    "def get_user_features(n, reference_df, eval_set='prior'):\n",
    "    current = orders[(orders.order_number_reverse>n)]\n",
    "    grouped_df = current.groupby('user_id')\n",
    "    usr = grouped_df.aggregate({'days_since_prior_order':'mean','order_number':'max','order_dow':'mean'})\n",
    "    usr.rename(columns={'days_since_prior_order':'user_average_days_between_orders','order_number':'user_nb_orders',\n",
    "                       'order_dow':'user_average_order_dow'}, inplace=True)\n",
    "    usr['user_average_days_between_orders'] = usr['user_average_days_between_orders'].astype(np.float32)\n",
    "    usr['user_nb_orders'] = usr['user_nb_orders'].astype(np.int16)\n",
    "    usr['user_average_order_dow'] = usr['user_average_order_dow'].astype(np.int8)\n",
    "    \n",
    "    users = pd.DataFrame()\n",
    "    current = reference_df[reference_df.order_number_reverse>n].groupby('user_id')\n",
    "    users['user_total_items'] = current.size().astype(np.int16)\n",
    "    users['user_all_products'] = current['product_id'].apply(set)\n",
    "    users['user_total_distinct_items'] = users['user_all_products'].apply(len).astype(np.int16)\n",
    "    users.drop('user_all_products', axis=1, inplace=True)\n",
    "    users = users.join(usr)\n",
    "    users.reset_index(drop=False, inplace=True)\n",
    "    users['user_average_basket_size'] = (users['user_total_items']/users['user_nb_orders']).astype(np.float32)\n",
    "    return users\n",
    "    \n",
    "    \n",
    "    "
   ]
  },
  {
   "cell_type": "code",
   "execution_count": 7,
   "metadata": {
    "collapsed": false
   },
   "outputs": [
    {
     "name": "stdout",
     "output_type": "stream",
     "text": [
      "compute userXproduct f -this is long ...\n"
     ]
    }
   ],
   "source": [
    "print('compute userXproduct f -this is long ...')\n",
    "priors['user_product'] = priors.product_id + priors.user_id*100000"
   ]
  },
  {
   "cell_type": "code",
   "execution_count": 8,
   "metadata": {
    "collapsed": false
   },
   "outputs": [],
   "source": [
    "def get_user_product_features(n, reference_df, eval_set='prior'):\n",
    "    grouped_df = reference_df[reference_df.order_number_reverse > n].groupby('user_product')\n",
    "    userXproduct = grouped_df.aggregate({'user_product':'count', 'add_to_cart_order':'mean'})   \n",
    "    userXproduct.rename(columns={'user_product':'UP_orders', 'add_to_cart_order':'UP_avg_pos_in_cart'}, inplace=True)\n",
    "    userXproduct['user_product'] = userXproduct.index.values\n",
    "    \n",
    "    grouped_df = reference_df[reference_df.order_number_reverse > n].groupby('user_product')['order_number'].aggregate('max').reset_index()\n",
    "    grouped_df = pd.merge(grouped_df, reference_df.loc[reference_df.order_number_reverse > n, ['user_product', 'order_number', 'order_id']],\n",
    "                          on=['user_product', 'order_number'], how='left')\n",
    "    userXproduct = pd.merge(userXproduct, grouped_df,on='user_product', how='left')\n",
    "    userXproduct.rename(columns={'order_id':'UP_last_order_id', 'order_number':'UP_last_order_number'}, inplace=True)\n",
    "    #userXproduct.index = userXproduct.user_product\n",
    "    #userXproduct.drop(['order_number'], axis=1, inplace=True)\n",
    "    return userXproduct"
   ]
  },
  {
   "cell_type": "code",
   "execution_count": 9,
   "metadata": {
    "collapsed": false
   },
   "outputs": [
    {
     "name": "stdout",
     "output_type": "stream",
     "text": [
      "CPU times: user 1.46 s, sys: 96 ms, total: 1.56 s\n",
      "Wall time: 1.55 s\n"
     ]
    }
   ],
   "source": [
    "%time df = get_user_product_features(50, priors)"
   ]
  },
  {
   "cell_type": "code",
   "execution_count": 10,
   "metadata": {
    "collapsed": false
   },
   "outputs": [
    {
     "data": {
      "text/html": [
       "<div>\n",
       "<style>\n",
       "    .dataframe thead tr:only-child th {\n",
       "        text-align: right;\n",
       "    }\n",
       "\n",
       "    .dataframe thead th {\n",
       "        text-align: left;\n",
       "    }\n",
       "\n",
       "    .dataframe tbody tr th {\n",
       "        vertical-align: top;\n",
       "    }\n",
       "</style>\n",
       "<table border=\"1\" class=\"dataframe\">\n",
       "  <thead>\n",
       "    <tr style=\"text-align: right;\">\n",
       "      <th></th>\n",
       "      <th>UP_avg_pos_in_cart</th>\n",
       "      <th>UP_orders</th>\n",
       "      <th>user_product</th>\n",
       "      <th>UP_last_order_number</th>\n",
       "      <th>UP_last_order_id</th>\n",
       "    </tr>\n",
       "  </thead>\n",
       "  <tbody>\n",
       "    <tr>\n",
       "      <th>0</th>\n",
       "      <td>5.000000</td>\n",
       "      <td>1</td>\n",
       "      <td>2700093</td>\n",
       "      <td>7</td>\n",
       "      <td>1771198</td>\n",
       "    </tr>\n",
       "    <tr>\n",
       "      <th>1</th>\n",
       "      <td>3.000000</td>\n",
       "      <td>1</td>\n",
       "      <td>2700633</td>\n",
       "      <td>26</td>\n",
       "      <td>2305567</td>\n",
       "    </tr>\n",
       "    <tr>\n",
       "      <th>2</th>\n",
       "      <td>8.000000</td>\n",
       "      <td>3</td>\n",
       "      <td>2701005</td>\n",
       "      <td>21</td>\n",
       "      <td>1149132</td>\n",
       "    </tr>\n",
       "    <tr>\n",
       "      <th>3</th>\n",
       "      <td>1.333333</td>\n",
       "      <td>3</td>\n",
       "      <td>2701194</td>\n",
       "      <td>30</td>\n",
       "      <td>1111867</td>\n",
       "    </tr>\n",
       "    <tr>\n",
       "      <th>4</th>\n",
       "      <td>7.000000</td>\n",
       "      <td>1</td>\n",
       "      <td>2701559</td>\n",
       "      <td>8</td>\n",
       "      <td>1460681</td>\n",
       "    </tr>\n",
       "  </tbody>\n",
       "</table>\n",
       "</div>"
      ],
      "text/plain": [
       "   UP_avg_pos_in_cart  UP_orders  user_product  UP_last_order_number  \\\n",
       "0            5.000000          1       2700093                     7   \n",
       "1            3.000000          1       2700633                    26   \n",
       "2            8.000000          3       2701005                    21   \n",
       "3            1.333333          3       2701194                    30   \n",
       "4            7.000000          1       2701559                     8   \n",
       "\n",
       "   UP_last_order_id  \n",
       "0           1771198  \n",
       "1           2305567  \n",
       "2           1149132  \n",
       "3           1111867  \n",
       "4           1460681  "
      ]
     },
     "execution_count": 10,
     "metadata": {},
     "output_type": "execute_result"
    }
   ],
   "source": [
    "df.head()"
   ]
  },
  {
   "cell_type": "code",
   "execution_count": 9,
   "metadata": {
    "collapsed": false
   },
   "outputs": [],
   "source": [
    "def features(n, reference_df, selected_orders=False, labels_given=True):\n",
    "    print('build candidate set')\n",
    "    if labels_given:\n",
    "        current_df = reference_df.loc[reference_df.order_number_reverse == n, ['user_id','product_id']]\n",
    "        current_df['user_product'] = current_df.product_id + current_df.user_id*100000 \n",
    "        candidate_df = priors.loc[(priors.order_number_reverse>n)&(priors.user_id.isin(current_df.user_id)), ['user_id', 'product_id', 'user_product']].drop_duplicates('user_product')\n",
    "        labels = np.in1d(candidate_df.user_product, current_df.user_product).astype(int)\n",
    "    else:\n",
    "        current_df = reference_df\n",
    "        candidate_df = priors.loc[(priors.order_number_reverse>n)&(priors.user_id.isin(current_df.user_id)),['user_id','product_id','user_product']].drop_duplicates('user_product')\n",
    "        labels=None\n",
    "    \n",
    "    ### Building Features\n",
    "    print('Building product features')\n",
    "    product_features = get_product_features(n, priors)\n",
    "    train_candidates = pd.merge(candidate_df, product_features, on='product_id',how='left')\n",
    "    \n",
    "    print('Building user features')\n",
    "    user_features = get_user_features(n, priors)\n",
    "    train_candidates = pd.merge(train_candidates, user_features, on='user_id', how='left')\n",
    "    \n",
    "    print('Building order features')\n",
    "    train_candidates = pd.merge(train_candidates, orders[orders.order_number_reverse==n], on=['user_id'], how='left')\n",
    "    train_candidates['days_since_ratio'] = train_candidates.days_since_prior_order/train_candidates.user_average_days_between_orders\n",
    "    ## extra cleaning step\n",
    "    train_candidates['days_since_ratio'].fillna(-99, inplace=True)\n",
    "    \n",
    "    \n",
    "    print('Building user_product features')\n",
    "    user_product_features = get_user_product_features(n, priors) \n",
    "    train_candidates = pd.merge(train_candidates, user_product_features, on='user_product', how='left')\n",
    "    train_candidates['UP_orders_ratio'] = train_candidates.UP_orders/train_candidates.user_nb_orders\n",
    "    train_candidates['UP_orders_since_last'] = train_candidates.order_number - train_candidates.UP_last_order_number\n",
    "    train_candidates['UP_delta_hour_vs_last'] = abs(train_candidates.order_hour_of_day - train_candidates.UP_last_order_id.map(orders.order_hour_of_day)).map(lambda x: min(x, 24-x)).astype(np.int8)\n",
    "    \n",
    "\n",
    "    \n",
    "    return train_candidates, labels\n",
    "    "
   ]
  },
  {
   "cell_type": "code",
   "execution_count": 10,
   "metadata": {
    "collapsed": false
   },
   "outputs": [
    {
     "name": "stdout",
     "output_type": "stream",
     "text": [
      "build candidate set\n",
      "Building product features\n",
      "Building user features\n",
      "Building order features\n",
      "Building user_product features\n",
      "build candidate set\n",
      "Building product features\n",
      "Building user features\n",
      "Building order features\n",
      "Building user_product features\n"
     ]
    }
   ],
   "source": [
    "valid_X, valid_Y = features(0, train)\n",
    "valid_X['reordered'] = valid_Y\n",
    "if not os.path.exists(ROOT_DIR+'cleaned_train'):os.mkdir(ROOT_DIR+'cleaned_train')\n",
    "valid_X.to_csv(ROOT_DIR+'cleaned_train/valid_onr_0.csv', index=None)\n",
    "for i in range(1,2):\n",
    "    train_i_X, train_i_Y = features(i, priors)\n",
    "    train_i_X['reordered'] = train_i_Y\n",
    "    train_i_X.to_csv(ROOT_DIR+'cleaned_train/train_onr_{}.csv'.format(i), index=None)"
   ]
  },
  {
   "cell_type": "code",
   "execution_count": 10,
   "metadata": {
    "collapsed": false
   },
   "outputs": [
    {
     "data": {
      "text/plain": [
       "u'/home/cvpr/Documents/courses/deeplearning1/nbs/instacart'"
      ]
     },
     "execution_count": 10,
     "metadata": {},
     "output_type": "execute_result"
    }
   ],
   "source": []
  },
  {
   "cell_type": "code",
   "execution_count": 11,
   "metadata": {
    "collapsed": false
   },
   "outputs": [
    {
     "name": "stdout",
     "output_type": "stream",
     "text": [
      "build candidate set\n",
      "Building product features\n",
      "Building user features\n",
      "Building order features\n",
      "Building user_product features\n",
      "build candidate set\n",
      "Building product features\n",
      "Building user features\n",
      "Building order features\n",
      "Building user_product features\n",
      "build candidate set\n",
      "Building product features\n",
      "Building user features\n",
      "Building order features\n",
      "Building user_product features\n",
      "build candidate set\n",
      "Building product features\n",
      "Building user features\n",
      "Building order features\n",
      "Building user_product features\n",
      "build candidate set\n",
      "Building product features\n",
      "Building user features\n",
      "Building order features\n",
      "Building user_product features\n"
     ]
    }
   ],
   "source": [
    "\n",
    "\n",
    "del train_i_X, train_i_Y"
   ]
  },
  {
   "cell_type": "code",
   "execution_count": 12,
   "metadata": {
    "collapsed": false
   },
   "outputs": [
    {
     "data": {
      "text/plain": [
       "user_id                                  0\n",
       "product_id                               0\n",
       "user_product                             0\n",
       "product_orders                           0\n",
       "product_reorders                         0\n",
       "product_reorder_rate                     0\n",
       "aisle_id                                 0\n",
       "department_id                            0\n",
       "user_total_items                         0\n",
       "user_total_distinct_items                0\n",
       "user_nb_orders                           0\n",
       "user_average_order_dow                   0\n",
       "user_average_days_between_orders    708700\n",
       "user_average_basket_size                 0\n",
       "order_id                                 0\n",
       "eval_set                                 0\n",
       "order_number                             0\n",
       "order_dow                                0\n",
       "order_hour_of_day                        0\n",
       "days_since_prior_order                   0\n",
       "order_number_reverse                     0\n",
       "days_since_ratio                         0\n",
       "UP_avg_pos_in_cart                       0\n",
       "UP_orders                                0\n",
       "UP_last_order_number                     0\n",
       "UP_last_order_id                         0\n",
       "UP_orders_ratio                          0\n",
       "UP_orders_since_last                     0\n",
       "UP_delta_hour_vs_last                    0\n",
       "dtype: int64"
      ]
     },
     "execution_count": 12,
     "metadata": {},
     "output_type": "execute_result"
    }
   ],
   "source": [
    "train_X.isnull().sum()"
   ]
  },
  {
   "cell_type": "code",
   "execution_count": 28,
   "metadata": {
    "collapsed": false
   },
   "outputs": [],
   "source": [
    "train_X.loc[train_X.user_average_days_between_orders.isnull(),'user_average_days_between_orders'] = -999"
   ]
  },
  {
   "cell_type": "code",
   "execution_count": 30,
   "metadata": {
    "collapsed": false
   },
   "outputs": [
    {
     "data": {
      "text/plain": [
       "Index([u'user_id', u'product_id', u'user_product', u'product_orders',\n",
       "       u'product_reorders', u'product_reorder_rate', u'aisle_id',\n",
       "       u'department_id', u'user_total_items', u'user_total_distinct_items',\n",
       "       u'user_nb_orders', u'user_average_order_dow',\n",
       "       u'user_average_days_between_orders', u'user_average_basket_size',\n",
       "       u'order_id', u'eval_set', u'order_number', u'order_dow',\n",
       "       u'order_hour_of_day', u'days_since_prior_order',\n",
       "       u'order_number_reverse', u'days_since_ratio', u'UP_avg_pos_in_cart',\n",
       "       u'UP_orders', u'UP_last_order_number', u'UP_last_order_id',\n",
       "       u'UP_orders_ratio', u'UP_orders_since_last', u'UP_delta_hour_vs_last'],\n",
       "      dtype='object')"
      ]
     },
     "execution_count": 30,
     "metadata": {},
     "output_type": "execute_result"
    }
   ],
   "source": [
    "train_X.columns"
   ]
  },
  {
   "cell_type": "code",
   "execution_count": 31,
   "metadata": {
    "collapsed": false
   },
   "outputs": [
    {
     "name": "stdout",
     "output_type": "stream",
     "text": [
      "formatting for lgb\n",
      "lightgbm train\n"
     ]
    }
   ],
   "source": [
    "f_to_use = ['product_orders', 'product_reorders', 'product_reorder_rate', 'aisle_id', 'department_id', 'user_total_items',\n",
    "           'user_total_distinct_items', 'user_nb_orders', 'user_average_order_dow', 'user_average_days_between_orders',\n",
    "           'user_average_basket_size', 'order_number', 'order_dow', 'order_hour_of_day', 'days_since_prior_order', 'order_number_reverse','days_since_ratio',\n",
    "           'UP_avg_pos_in_cart', 'UP_orders', 'UP_last_order_number', 'UP_orders_ratio','UP_orders_since_last','UP_delta_hour_vs_last']\n",
    "\n",
    "print('formatting for lgb')\n",
    "d_train = lgb.Dataset(train_X[f_to_use], label=train_Y, categorical_feature=['aisle_id', 'department_id'])\n",
    "del train_X\n",
    "\n",
    "evals_result = {}\n",
    "params = {\n",
    "    'task':'train',\n",
    "    'boosting_type':'gbdt',\n",
    "    'objective':'binary',\n",
    "    'metric':{'binary_logloss'},\n",
    "    'num_leaves':96,\n",
    "    'max_depth':10,\n",
    "    'feature_fraction':0.9,\n",
    "    'bagging_fraction':0.95,\n",
    "    'bagging_freq':5,\n",
    "    #'device':'gpu'\n",
    "}\n",
    "ROUNDS = 150\n",
    "print('lightgbm train')\n",
    "bst = lgb.train(params, d_train, ROUNDS, evals_result=evals_result)\n",
    "del d_train"
   ]
  },
  {
   "cell_type": "code",
   "execution_count": 33,
   "metadata": {
    "collapsed": false
   },
   "outputs": [
    {
     "name": "stdout",
     "output_type": "stream",
     "text": [
      "Plot feature importances...\n"
     ]
    },
    {
     "data": {
      "image/png": "[encoded data removed]",
      "text/plain": [
       "<matplotlib.figure.Figure at 0x7f905c1e3e50>"
      ]
     },
     "metadata": {},
     "output_type": "display_data"
    }
   ],
   "source": [
    "print('Plot feature importances...')\n",
    "ax = lgb.plot_importance(bst, max_num_features=30)\n",
    "plt.show()"
   ]
  },
  {
   "cell_type": "code",
   "execution_count": 13,
   "metadata": {
    "collapsed": false
   },
   "outputs": [
    {
     "name": "stdout",
     "output_type": "stream",
     "text": [
      "Plot feature importances...\n"
     ]
    },
    {
     "data": {
      "image/png": "[encoded data removed]",
      "text/plain": [
       "<matplotlib.figure.Figure at 0x7fbe3cc98d90>"
      ]
     },
     "metadata": {},
     "output_type": "display_data"
    }
   ],
   "source": [
    "print('Plot feature importances...')\n",
    "ax = lgb.plot_importance(bst, max_num_features=30)\n",
    "plt.show()"
   ]
  },
  {
   "cell_type": "code",
   "execution_count": 34,
   "metadata": {
    "collapsed": false
   },
   "outputs": [
    {
     "name": "stdout",
     "output_type": "stream",
     "text": [
      "build candidate set\n",
      "Building product features\n",
      "Building user features\n",
      "Building order features\n",
      "Building user_product features\n",
      "light gbm predict\n"
     ]
    }
   ],
   "source": [
    "df_test,_ = features(0,orders[orders.eval_set=='test'])\n",
    "print('light gbm predict')\n",
    "preds = bst.predict(df_test[f_to_use])\n",
    "df_test['preds'] = preds"
   ]
  },
  {
   "cell_type": "code",
   "execution_count": 35,
   "metadata": {
    "collapsed": false
   },
   "outputs": [],
   "source": [
    "threshold = 0.22\n",
    "d = dict()\n",
    "for row in df_test.itertuples():\n",
    "    if row.preds > threshold:\n",
    "        try:\n",
    "            d[row.order_id] += ' ' + str(row.product_id)\n",
    "        except:\n",
    "            d[row.order_id] = str(row.product_id)\n",
    "\n",
    "for order in orders[orders.eval_set=='test'].order_id:\n",
    "    if order not in d:\n",
    "        d[order] = 'None'\n",
    "\n",
    "sub = pd.DataFrame.from_dict(d, orient='index')\n",
    "sub.reset_index(inplace=True)\n",
    "sub.columns = ['order_id', 'products']\n",
    "sub.to_csv(ROOT_DIR+'paulantoine_lgb_starter.csv', index=False)"
   ]
  },
  {
   "cell_type": "code",
   "execution_count": 21,
   "metadata": {
    "collapsed": false
   },
   "outputs": [
    {
     "data": {
      "text/plain": [
       "828824"
      ]
     },
     "execution_count": 21,
     "metadata": {},
     "output_type": "execute_result"
    }
   ],
   "source": []
  }
 ],
 "metadata": {
  "kernelspec": {
   "display_name": "Python 2",
   "language": "python",
   "name": "python2"
  },
  "language_info": {
   "codemirror_mode": {
    "name": "ipython",
    "version": 2
   },
   "file_extension": ".py",
   "mimetype": "text/x-python",
   "name": "python",
   "nbconvert_exporter": "python",
   "pygments_lexer": "ipython2",
   "version": "2.7.13"
  }
 },
 "nbformat": 4,
 "nbformat_minor": 2
}
